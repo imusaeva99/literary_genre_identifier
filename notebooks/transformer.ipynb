{
  "cells": [
    {
      "cell_type": "code",
      "execution_count": null,
      "id": "08wlMy06Q3uh",
      "metadata": {
        "colab": {
          "base_uri": "https://localhost:8080/"
        },
        "id": "08wlMy06Q3uh",
        "outputId": "b7d1edd1-51dc-4738-9d93-3dbbf4084753"
      },
      "outputs": [],
      "source": [
        "!unzip lemmatized.zip"
      ]
    },
    {
      "cell_type": "code",
      "execution_count": 1,
      "id": "95d2501b",
      "metadata": {
        "id": "95d2501b"
      },
      "outputs": [],
      "source": [
        "import math\n",
        "import os\n",
        "\n",
        "import torch\n",
        "from torchtext.vocab import build_vocab_from_iterator\n",
        "from torch import nn, Tensor\n",
        "from tempfile import TemporaryDirectory\n",
        "import torch.nn.functional as F\n",
        "from torch.utils.data import Dataset\n",
        "from torch.nn import TransformerEncoder, TransformerEncoderLayer\n",
        "from torch.utils.data import dataset\n",
        "from typing import Tuple\n",
        "\n",
        "from sklearn.neighbors import kneighbors_graph\n",
        "from tqdm.notebook import tqdm, trange\n",
        "import networkx as nx\n",
        "import matplotlib.pyplot as plt"
      ]
    },
    {
      "cell_type": "code",
      "execution_count": 2,
      "id": "a7a7bbeb",
      "metadata": {
        "id": "a7a7bbeb"
      },
      "outputs": [],
      "source": [
        "class Dataset():\n",
        "    def __iter__(self):\n",
        "        for genre in ['ballads', 'elegies', 'songs', 'novels']:\n",
        "            for file in os.listdir('../datasets/lemmatized/' + genre):\n",
        "                with open('../datasets/lemmatized/' + genre + '/' + file, 'r', encoding='utf-8') as f:\n",
        "                    yield f.read().split()"
      ]
    },
    {
      "cell_type": "code",
      "execution_count": 3,
      "id": "949b33bb",
      "metadata": {
        "id": "949b33bb"
      },
      "outputs": [],
      "source": [
        "def data_process(raw_text_iter: dataset.IterableDataset) -> Tensor:\n",
        "    data = [torch.tensor(vocab(item), dtype=torch.long) for item in raw_text_iter]\n",
        "    return torch.cat(tuple(filter(lambda t: t.numel() > 0, data)))"
      ]
    },
    {
      "cell_type": "code",
      "execution_count": 4,
      "id": "8f00b923",
      "metadata": {
        "id": "8f00b923"
      },
      "outputs": [],
      "source": [
        "def batchify(data: Tensor, bsz: int) -> Tensor:\n",
        "    seq_len = data.size(0) // bsz\n",
        "    data = data[:seq_len * bsz]\n",
        "    data = data.view(bsz, seq_len).t().contiguous()\n",
        "    return data.to(device)"
      ]
    },
    {
      "cell_type": "code",
      "execution_count": 5,
      "id": "aa672725",
      "metadata": {
        "id": "aa672725"
      },
      "outputs": [],
      "source": [
        "device = 'cuda' if torch.cuda.is_available() else 'cpu'"
      ]
    },
    {
      "cell_type": "code",
      "execution_count": 6,
      "id": "f37dd18f",
      "metadata": {
        "id": "f37dd18f"
      },
      "outputs": [],
      "source": [
        "sentences = Dataset()\n",
        "vocab = build_vocab_from_iterator(sentences)"
      ]
    },
    {
      "cell_type": "code",
      "execution_count": null,
      "id": "5eb8fdc5",
      "metadata": {
        "id": "5eb8fdc5"
      },
      "outputs": [],
      "source": [
        "data = data_process(sentences)\n",
        "data = batchify(data, bsz=20)"
      ]
    },
    {
      "cell_type": "code",
      "execution_count": 8,
      "id": "86026b21",
      "metadata": {
        "id": "86026b21"
      },
      "outputs": [],
      "source": [
        "def get_batch(source: Tensor, i: int) -> Tuple[Tensor, Tensor]:\n",
        "    \"\"\"\n",
        "    Args:\n",
        "        source: Tensor, shape ``[full_seq_len, batch_size]``\n",
        "        i: int\n",
        "\n",
        "    Returns:\n",
        "        tuple (data, target), where data has shape ``[seq_len, batch_size]`` and\n",
        "        target has shape ``[seq_len * batch_size]``\n",
        "    \"\"\"\n",
        "    seq_len = min(bptt, len(source) - 1 - i)\n",
        "    data = source[i:i+seq_len]\n",
        "    target = source[i+1:i+1+seq_len].reshape(-1)\n",
        "    return data, target"
      ]
    },
    {
      "cell_type": "code",
      "execution_count": 7,
      "id": "3863f51c",
      "metadata": {
        "id": "3863f51c"
      },
      "outputs": [],
      "source": [
        "class TransformerModel(nn.Module):\n",
        "\n",
        "    def __init__(self, ntoken: int, d_model: int, nhead: int, d_hid: int,\n",
        "                 nlayers: int, dropout: float = 0.5):\n",
        "        super().__init__()\n",
        "        self.model_type = 'Transformer'\n",
        "        self.pos_encoder = PositionalEncoding(d_model, dropout)\n",
        "        encoder_layers = TransformerEncoderLayer(d_model, nhead, d_hid, dropout)\n",
        "        self.transformer_encoder = TransformerEncoder(encoder_layers, nlayers)\n",
        "        self.encoder = nn.Embedding(ntoken, d_model)\n",
        "        self.d_model = d_model\n",
        "        self.decoder = nn.Linear(d_model, ntoken)\n",
        "\n",
        "        self.init_weights()\n",
        "\n",
        "    def init_weights(self) -> None:\n",
        "        initrange = 0.1\n",
        "        self.encoder.weight.data.uniform_(-initrange, initrange)\n",
        "        self.decoder.bias.data.zero_()\n",
        "        self.decoder.weight.data.uniform_(-initrange, initrange)\n",
        "\n",
        "    def forward(self, src: Tensor, src_mask: Tensor) -> Tensor:\n",
        "        \"\"\"\n",
        "        Arguments:\n",
        "            src: Tensor, shape ``[seq_len, batch_size]``\n",
        "            src_mask: Tensor, shape ``[seq_len, seq_len]``\n",
        "\n",
        "        Returns:\n",
        "            output Tensor of shape ``[seq_len, batch_size, ntoken]``\n",
        "        \"\"\"\n",
        "        src = self.encoder(src) * math.sqrt(self.d_model)\n",
        "        src = self.pos_encoder(src)\n",
        "        output = self.transformer_encoder(src, src_mask)\n",
        "        output = self.decoder(output)\n",
        "        return output\n",
        "\n",
        "def generate_square_subsequent_mask(sz: int) -> Tensor:\n",
        "    \"\"\"Generates an upper-triangular matrix of ``-inf``, with zeros on ``diag``.\"\"\"\n",
        "    return torch.triu(torch.ones(sz, sz) * float('-inf'), diagonal=1)"
      ]
    },
    {
      "cell_type": "code",
      "execution_count": 8,
      "id": "92d9e384",
      "metadata": {
        "id": "92d9e384"
      },
      "outputs": [],
      "source": [
        "class PositionalEncoding(nn.Module):\n",
        "\n",
        "    def __init__(self, d_model: int, dropout: float = 0.1, max_len: int = 5000):\n",
        "        super().__init__()\n",
        "        self.dropout = nn.Dropout(p=dropout)\n",
        "\n",
        "        position = torch.arange(max_len).unsqueeze(1)\n",
        "        div_term = torch.exp(torch.arange(0, d_model, 2) * (-math.log(10000.0) / d_model))\n",
        "        pe = torch.zeros(max_len, 1, d_model)\n",
        "        pe[:, 0, 0::2] = torch.sin(position * div_term)\n",
        "        pe[:, 0, 1::2] = torch.cos(position * div_term)\n",
        "        self.register_buffer('pe', pe)\n",
        "\n",
        "    def forward(self, x):\n",
        "        x = x + self.pe[:x.size(0)]\n",
        "        return self.dropout(x)"
      ]
    },
    {
      "cell_type": "code",
      "execution_count": 9,
      "id": "8522098c",
      "metadata": {
        "id": "8522098c"
      },
      "outputs": [],
      "source": [
        "bptt = 35 #\n",
        "ntokens = len(vocab)  # size of vocabulary\n",
        "emsize = 128  # embedding dimension\n",
        "d_hid = 128  # dimension of the feedforward network model in ``nn.TransformerEncoder``\n",
        "nlayers = 2  # number of ``nn.TransformerEncoderLayer`` in ``nn.TransformerEncoder``\n",
        "nhead = 2  # number of heads in ``nn.MultiheadAttention``\n",
        "dropout = 0.2  # dropout probability\n",
        "model = TransformerModel(ntokens, emsize, nhead, d_hid, nlayers, dropout).to(device)"
      ]
    },
    {
      "cell_type": "code",
      "execution_count": null,
      "id": "dffd4f7e",
      "metadata": {
        "id": "dffd4f7e"
      },
      "outputs": [],
      "source": [
        "import copy\n",
        "import time\n",
        "\n",
        "criterion = nn.CrossEntropyLoss()\n",
        "lr = 0.0005  # learning rate\n",
        "optimizer = torch.optim.Adam(model.parameters(), lr=lr)\n",
        "scheduler = torch.optim.lr_scheduler.StepLR(optimizer, 1.0, gamma=0.95)\n",
        "\n",
        "def train(model, train_data) -> None:\n",
        "    model.train()  # turn on train mode\n",
        "    total_loss = 0.\n",
        "    log_interval = 200\n",
        "    start_time = time.time()\n",
        "    src_mask = generate_square_subsequent_mask(bptt).to(device)\n",
        "\n",
        "    num_batches = len(train_data) // bptt\n",
        "    for batch, i in enumerate(trange(0, train_data.size(0) - 1, bptt)):\n",
        "        data, targets = get_batch(train_data, i)\n",
        "        seq_len = data.size(0)\n",
        "        if seq_len != bptt:  # only on last batch\n",
        "            src_mask = src_mask[:seq_len, :seq_len]\n",
        "        output = model(data, src_mask)\n",
        "        loss = criterion(output.view(-1, ntokens), targets)\n",
        "\n",
        "        optimizer.zero_grad()\n",
        "        loss.backward()\n",
        "        torch.nn.utils.clip_grad_norm_(model.parameters(), 0.5)\n",
        "        optimizer.step()\n",
        "\n",
        "        total_loss += loss.item()\n",
        "        if batch % log_interval == 0 and batch > 0:\n",
        "            lr = scheduler.get_last_lr()[0]\n",
        "            ms_per_batch = (time.time() - start_time) * 1000 / log_interval\n",
        "            cur_loss = total_loss / log_interval\n",
        "            ppl = math.exp(cur_loss)\n",
        "            print(f'| epoch {epoch:3d} | {batch:5d}/{num_batches:5d} batches | '\n",
        "                  f'lr {lr:02.2f} | ms/batch {ms_per_batch:5.2f} | '\n",
        "                  f'loss {cur_loss:5.2f} | ppl {ppl:8.2f}')\n",
        "            total_loss = 0\n",
        "            start_time = time.time()"
      ]
    },
    {
      "cell_type": "code",
      "execution_count": null,
      "id": "bfbf8859",
      "metadata": {
        "id": "bfbf8859"
      },
      "outputs": [],
      "source": [
        "best_val_loss = float('inf')\n",
        "epochs = 1"
      ]
    },
    {
      "cell_type": "code",
      "execution_count": null,
      "id": "65ec08a1",
      "metadata": {
        "colab": {
          "base_uri": "https://localhost:8080/",
          "height": 1000,
          "referenced_widgets": [
            "6d4ac6f89cf94ac8b065a2e70b962fb0",
            "552b24fa7224469993c51867d9d20144",
            "a6d6a5aa14b4416698726e236dcca51c",
            "955403000531448aa972f227d8132d16",
            "efc564ad18f94fbfa0c30a13b57aa365",
            "722a65f668374b01a58c021d56fa8bc1",
            "166c7b1d43714918ba5be3510b51ae75",
            "3800de5e5fb941a0bffed26648834d94",
            "c7f8959a7fe64ea7b102a51835298490",
            "5860fc41e92f457ab9b0e4d305bb80ed",
            "757236d8e1a942e0ba71ad29048f2315"
          ]
        },
        "id": "65ec08a1",
        "outputId": "1d760658-7d81-48ec-9f96-7e4538bf2452"
      },
      "outputs": [
        {
          "data": {
            "application/vnd.jupyter.widget-view+json": {
              "model_id": "6d4ac6f89cf94ac8b065a2e70b962fb0",
              "version_major": 2,
              "version_minor": 0
            },
            "text/plain": [
              "  0%|          | 0/42600 [00:00<?, ?it/s]"
            ]
          },
          "metadata": {},
          "output_type": "display_data"
        },
        {
          "name": "stdout",
          "output_type": "stream",
          "text": [
            "| epoch   1 |   200/42599 batches | lr 0.00 | ms/batch 41.97 | loss  8.90 | ppl  7337.13\n",
            "| epoch   1 |   400/42599 batches | lr 0.00 | ms/batch 41.86 | loss  7.80 | ppl  2428.73\n",
            "| epoch   1 |   600/42599 batches | lr 0.00 | ms/batch 41.11 | loss  7.59 | ppl  1975.68\n",
            "| epoch   1 |   800/42599 batches | lr 0.00 | ms/batch 41.27 | loss  7.40 | ppl  1638.12\n",
            "| epoch   1 |  1000/42599 batches | lr 0.00 | ms/batch 41.85 | loss  7.50 | ppl  1806.09\n",
            "| epoch   1 |  1200/42599 batches | lr 0.00 | ms/batch 41.89 | loss  7.37 | ppl  1594.24\n",
            "| epoch   1 |  1400/42599 batches | lr 0.00 | ms/batch 41.27 | loss  7.30 | ppl  1481.53\n",
            "| epoch   1 |  1600/42599 batches | lr 0.00 | ms/batch 42.06 | loss  7.27 | ppl  1442.66\n",
            "| epoch   1 |  1800/42599 batches | lr 0.00 | ms/batch 41.97 | loss  7.17 | ppl  1303.95\n",
            "| epoch   1 |  2000/42599 batches | lr 0.00 | ms/batch 41.64 | loss  7.17 | ppl  1300.74\n",
            "| epoch   1 |  2200/42599 batches | lr 0.00 | ms/batch 41.92 | loss  7.19 | ppl  1326.52\n",
            "| epoch   1 |  2400/42599 batches | lr 0.00 | ms/batch 41.88 | loss  7.15 | ppl  1268.89\n",
            "| epoch   1 |  2600/42599 batches | lr 0.00 | ms/batch 41.75 | loss  7.16 | ppl  1288.59\n",
            "| epoch   1 |  2800/42599 batches | lr 0.00 | ms/batch 41.89 | loss  7.19 | ppl  1321.62\n",
            "| epoch   1 |  3000/42599 batches | lr 0.00 | ms/batch 41.87 | loss  7.21 | ppl  1356.89\n",
            "| epoch   1 |  3200/42599 batches | lr 0.00 | ms/batch 41.80 | loss  7.18 | ppl  1316.94\n",
            "| epoch   1 |  3400/42599 batches | lr 0.00 | ms/batch 42.10 | loss  7.13 | ppl  1249.34\n",
            "| epoch   1 |  3600/42599 batches | lr 0.00 | ms/batch 41.87 | loss  7.14 | ppl  1257.84\n",
            "| epoch   1 |  3800/42599 batches | lr 0.00 | ms/batch 41.79 | loss  7.23 | ppl  1378.54\n",
            "| epoch   1 |  4000/42599 batches | lr 0.00 | ms/batch 42.08 | loss  7.21 | ppl  1354.14\n",
            "| epoch   1 |  4200/42599 batches | lr 0.00 | ms/batch 41.81 | loss  7.25 | ppl  1409.20\n",
            "| epoch   1 |  4400/42599 batches | lr 0.00 | ms/batch 41.15 | loss  7.21 | ppl  1346.23\n",
            "| epoch   1 |  4600/42599 batches | lr 0.00 | ms/batch 41.63 | loss  7.25 | ppl  1402.03\n",
            "| epoch   1 |  4800/42599 batches | lr 0.00 | ms/batch 41.44 | loss  7.19 | ppl  1324.29\n",
            "| epoch   1 |  5000/42599 batches | lr 0.00 | ms/batch 41.73 | loss  7.07 | ppl  1180.00\n",
            "| epoch   1 |  5200/42599 batches | lr 0.00 | ms/batch 41.61 | loss  7.05 | ppl  1158.10\n",
            "| epoch   1 |  5400/42599 batches | lr 0.00 | ms/batch 41.79 | loss  6.99 | ppl  1081.71\n",
            "| epoch   1 |  5600/42599 batches | lr 0.00 | ms/batch 42.08 | loss  7.02 | ppl  1121.72\n",
            "| epoch   1 |  5800/42599 batches | lr 0.00 | ms/batch 41.87 | loss  7.01 | ppl  1107.10\n",
            "| epoch   1 |  6000/42599 batches | lr 0.00 | ms/batch 41.76 | loss  7.02 | ppl  1118.95\n",
            "| epoch   1 |  6200/42599 batches | lr 0.00 | ms/batch 42.02 | loss  7.02 | ppl  1113.37\n",
            "| epoch   1 |  6400/42599 batches | lr 0.00 | ms/batch 41.97 | loss  6.95 | ppl  1046.69\n",
            "| epoch   1 |  6600/42599 batches | lr 0.00 | ms/batch 41.52 | loss  7.02 | ppl  1115.82\n",
            "| epoch   1 |  6800/42599 batches | lr 0.00 | ms/batch 42.09 | loss  6.93 | ppl  1020.94\n",
            "| epoch   1 |  7000/42599 batches | lr 0.00 | ms/batch 41.96 | loss  6.77 | ppl   873.31\n",
            "| epoch   1 |  7200/42599 batches | lr 0.00 | ms/batch 41.64 | loss  6.71 | ppl   821.47\n",
            "| epoch   1 |  7400/42599 batches | lr 0.00 | ms/batch 41.92 | loss  6.77 | ppl   875.29\n",
            "| epoch   1 |  7600/42599 batches | lr 0.00 | ms/batch 42.00 | loss  6.71 | ppl   818.96\n",
            "| epoch   1 |  7800/42599 batches | lr 0.00 | ms/batch 41.61 | loss  6.81 | ppl   910.85\n",
            "| epoch   1 |  8000/42599 batches | lr 0.00 | ms/batch 41.91 | loss  7.06 | ppl  1161.50\n",
            "| epoch   1 |  8200/42599 batches | lr 0.00 | ms/batch 41.78 | loss  7.02 | ppl  1117.88\n",
            "| epoch   1 |  8400/42599 batches | lr 0.00 | ms/batch 40.82 | loss  7.01 | ppl  1107.92\n",
            "| epoch   1 |  8600/42599 batches | lr 0.00 | ms/batch 41.94 | loss  6.90 | ppl   991.37\n",
            "| epoch   1 |  8800/42599 batches | lr 0.00 | ms/batch 41.67 | loss  6.90 | ppl   988.55\n",
            "| epoch   1 |  9000/42599 batches | lr 0.00 | ms/batch 41.41 | loss  6.89 | ppl   982.04\n",
            "| epoch   1 |  9200/42599 batches | lr 0.00 | ms/batch 41.81 | loss  6.89 | ppl   979.72\n",
            "| epoch   1 |  9400/42599 batches | lr 0.00 | ms/batch 42.12 | loss  6.99 | ppl  1085.12\n",
            "| epoch   1 |  9600/42599 batches | lr 0.00 | ms/batch 41.62 | loss  6.95 | ppl  1039.25\n",
            "| epoch   1 |  9800/42599 batches | lr 0.00 | ms/batch 42.08 | loss  6.86 | ppl   955.91\n",
            "| epoch   1 | 10000/42599 batches | lr 0.00 | ms/batch 42.08 | loss  6.97 | ppl  1065.22\n",
            "| epoch   1 | 10200/42599 batches | lr 0.00 | ms/batch 41.49 | loss  6.91 | ppl  1001.88\n",
            "| epoch   1 | 10400/42599 batches | lr 0.00 | ms/batch 41.94 | loss  6.89 | ppl   981.22\n",
            "| epoch   1 | 10600/42599 batches | lr 0.00 | ms/batch 42.06 | loss  6.85 | ppl   944.53\n",
            "| epoch   1 | 10800/42599 batches | lr 0.00 | ms/batch 41.51 | loss  6.84 | ppl   935.42\n",
            "| epoch   1 | 11000/42599 batches | lr 0.00 | ms/batch 42.11 | loss  6.87 | ppl   962.05\n",
            "| epoch   1 | 11200/42599 batches | lr 0.00 | ms/batch 41.97 | loss  6.91 | ppl  1000.16\n",
            "| epoch   1 | 11400/42599 batches | lr 0.00 | ms/batch 41.56 | loss  6.84 | ppl   934.07\n",
            "| epoch   1 | 11600/42599 batches | lr 0.00 | ms/batch 42.04 | loss  6.73 | ppl   839.65\n",
            "| epoch   1 | 11800/42599 batches | lr 0.00 | ms/batch 42.01 | loss  6.72 | ppl   830.39\n",
            "| epoch   1 | 12000/42599 batches | lr 0.00 | ms/batch 41.54 | loss  6.81 | ppl   906.73\n",
            "| epoch   1 | 12200/42599 batches | lr 0.00 | ms/batch 41.56 | loss  6.78 | ppl   878.56\n",
            "| epoch   1 | 12400/42599 batches | lr 0.00 | ms/batch 41.35 | loss  6.74 | ppl   844.55\n",
            "| epoch   1 | 12600/42599 batches | lr 0.00 | ms/batch 41.45 | loss  6.74 | ppl   848.59\n",
            "| epoch   1 | 12800/42599 batches | lr 0.00 | ms/batch 41.96 | loss  6.72 | ppl   829.38\n",
            "| epoch   1 | 13000/42599 batches | lr 0.00 | ms/batch 41.77 | loss  6.60 | ppl   738.38\n",
            "| epoch   1 | 13200/42599 batches | lr 0.00 | ms/batch 41.34 | loss  6.69 | ppl   807.69\n",
            "| epoch   1 | 13400/42599 batches | lr 0.00 | ms/batch 42.13 | loss  6.69 | ppl   804.45\n",
            "| epoch   1 | 13600/42599 batches | lr 0.00 | ms/batch 41.92 | loss  6.67 | ppl   790.35\n",
            "| epoch   1 | 13800/42599 batches | lr 0.00 | ms/batch 41.66 | loss  6.80 | ppl   900.70\n",
            "| epoch   1 | 14000/42599 batches | lr 0.00 | ms/batch 42.18 | loss  6.78 | ppl   883.48\n",
            "| epoch   1 | 14200/42599 batches | lr 0.00 | ms/batch 41.83 | loss  6.70 | ppl   813.88\n",
            "| epoch   1 | 14400/42599 batches | lr 0.00 | ms/batch 41.65 | loss  6.78 | ppl   883.30\n",
            "| epoch   1 | 14600/42599 batches | lr 0.00 | ms/batch 42.16 | loss  6.82 | ppl   914.60\n",
            "| epoch   1 | 14800/42599 batches | lr 0.00 | ms/batch 41.75 | loss  6.80 | ppl   900.22\n",
            "| epoch   1 | 15000/42599 batches | lr 0.00 | ms/batch 41.77 | loss  6.76 | ppl   859.89\n",
            "| epoch   1 | 15200/42599 batches | lr 0.00 | ms/batch 41.93 | loss  6.81 | ppl   903.90\n",
            "| epoch   1 | 15400/42599 batches | lr 0.00 | ms/batch 41.75 | loss  6.62 | ppl   748.33\n",
            "| epoch   1 | 15600/42599 batches | lr 0.00 | ms/batch 41.92 | loss  6.64 | ppl   766.55\n",
            "| epoch   1 | 15800/42599 batches | lr 0.00 | ms/batch 42.13 | loss  6.68 | ppl   797.26\n",
            "| epoch   1 | 16000/42599 batches | lr 0.00 | ms/batch 41.69 | loss  6.77 | ppl   874.00\n",
            "| epoch   1 | 16200/42599 batches | lr 0.00 | ms/batch 41.47 | loss  6.73 | ppl   835.03\n",
            "| epoch   1 | 16400/42599 batches | lr 0.00 | ms/batch 41.68 | loss  6.71 | ppl   823.31\n",
            "| epoch   1 | 16600/42599 batches | lr 0.00 | ms/batch 41.54 | loss  6.71 | ppl   818.90\n",
            "| epoch   1 | 16800/42599 batches | lr 0.00 | ms/batch 41.88 | loss  6.71 | ppl   819.66\n",
            "| epoch   1 | 17000/42599 batches | lr 0.00 | ms/batch 42.12 | loss  6.84 | ppl   930.08\n",
            "| epoch   1 | 17200/42599 batches | lr 0.00 | ms/batch 41.24 | loss  6.85 | ppl   945.78\n",
            "| epoch   1 | 17400/42599 batches | lr 0.00 | ms/batch 42.13 | loss  6.64 | ppl   764.07\n",
            "| epoch   1 | 17600/42599 batches | lr 0.00 | ms/batch 42.27 | loss  6.79 | ppl   891.91\n",
            "| epoch   1 | 17800/42599 batches | lr 0.00 | ms/batch 41.63 | loss  6.71 | ppl   823.00\n",
            "| epoch   1 | 18000/42599 batches | lr 0.00 | ms/batch 42.03 | loss  6.70 | ppl   811.97\n",
            "| epoch   1 | 18200/42599 batches | lr 0.00 | ms/batch 42.05 | loss  6.76 | ppl   863.41\n",
            "| epoch   1 | 18400/42599 batches | lr 0.00 | ms/batch 41.55 | loss  6.87 | ppl   961.51\n",
            "| epoch   1 | 18600/42599 batches | lr 0.00 | ms/batch 41.98 | loss  6.69 | ppl   806.56\n",
            "| epoch   1 | 18800/42599 batches | lr 0.00 | ms/batch 42.02 | loss  6.69 | ppl   801.59\n",
            "| epoch   1 | 19000/42599 batches | lr 0.00 | ms/batch 41.57 | loss  6.65 | ppl   775.22\n",
            "| epoch   1 | 19200/42599 batches | lr 0.00 | ms/batch 42.15 | loss  6.67 | ppl   791.15\n",
            "| epoch   1 | 19400/42599 batches | lr 0.00 | ms/batch 42.16 | loss  6.70 | ppl   810.85\n",
            "| epoch   1 | 19600/42599 batches | lr 0.00 | ms/batch 41.60 | loss  6.60 | ppl   734.42\n",
            "| epoch   1 | 19800/42599 batches | lr 0.00 | ms/batch 42.15 | loss  6.63 | ppl   760.24\n",
            "| epoch   1 | 20000/42599 batches | lr 0.00 | ms/batch 42.17 | loss  6.53 | ppl   687.05\n",
            "| epoch   1 | 20200/42599 batches | lr 0.00 | ms/batch 41.46 | loss  6.50 | ppl   668.27\n",
            "| epoch   1 | 20400/42599 batches | lr 0.00 | ms/batch 41.41 | loss  6.60 | ppl   736.36\n",
            "| epoch   1 | 20600/42599 batches | lr 0.00 | ms/batch 41.33 | loss  6.54 | ppl   693.26\n",
            "| epoch   1 | 20800/42599 batches | lr 0.00 | ms/batch 40.49 | loss  6.51 | ppl   674.39\n",
            "| epoch   1 | 21000/42599 batches | lr 0.00 | ms/batch 41.06 | loss  6.46 | ppl   638.95\n",
            "| epoch   1 | 21200/42599 batches | lr 0.00 | ms/batch 41.09 | loss  6.51 | ppl   673.32\n",
            "| epoch   1 | 21400/42599 batches | lr 0.00 | ms/batch 40.51 | loss  6.60 | ppl   735.43\n",
            "| epoch   1 | 21600/42599 batches | lr 0.00 | ms/batch 41.33 | loss  6.57 | ppl   715.21\n",
            "| epoch   1 | 21800/42599 batches | lr 0.00 | ms/batch 42.08 | loss  6.48 | ppl   650.84\n",
            "| epoch   1 | 22000/42599 batches | lr 0.00 | ms/batch 41.81 | loss  6.54 | ppl   690.63\n",
            "| epoch   1 | 22200/42599 batches | lr 0.00 | ms/batch 42.07 | loss  6.56 | ppl   708.31\n",
            "| epoch   1 | 22400/42599 batches | lr 0.00 | ms/batch 42.11 | loss  6.50 | ppl   666.23\n",
            "| epoch   1 | 22600/42599 batches | lr 0.00 | ms/batch 41.66 | loss  6.51 | ppl   671.92\n",
            "| epoch   1 | 22800/42599 batches | lr 0.00 | ms/batch 42.00 | loss  6.55 | ppl   700.00\n",
            "| epoch   1 | 23000/42599 batches | lr 0.00 | ms/batch 41.88 | loss  6.53 | ppl   684.38\n",
            "| epoch   1 | 23200/42599 batches | lr 0.00 | ms/batch 41.84 | loss  6.53 | ppl   687.94\n",
            "| epoch   1 | 23400/42599 batches | lr 0.00 | ms/batch 41.91 | loss  6.52 | ppl   680.88\n",
            "| epoch   1 | 23600/42599 batches | lr 0.00 | ms/batch 41.97 | loss  6.61 | ppl   740.02\n",
            "| epoch   1 | 23800/42599 batches | lr 0.00 | ms/batch 41.75 | loss  6.66 | ppl   780.47\n",
            "| epoch   1 | 24000/42599 batches | lr 0.00 | ms/batch 42.23 | loss  6.60 | ppl   735.44\n",
            "| epoch   1 | 24200/42599 batches | lr 0.00 | ms/batch 41.85 | loss  6.67 | ppl   787.45\n",
            "| epoch   1 | 24400/42599 batches | lr 0.00 | ms/batch 41.33 | loss  6.71 | ppl   818.32\n",
            "| epoch   1 | 24600/42599 batches | lr 0.00 | ms/batch 41.89 | loss  6.70 | ppl   816.09\n",
            "| epoch   1 | 24800/42599 batches | lr 0.00 | ms/batch 41.60 | loss  6.70 | ppl   810.47\n",
            "| epoch   1 | 25000/42599 batches | lr 0.00 | ms/batch 41.50 | loss  6.74 | ppl   846.14\n",
            "| epoch   1 | 25200/42599 batches | lr 0.00 | ms/batch 41.72 | loss  6.65 | ppl   773.60\n",
            "| epoch   1 | 25400/42599 batches | lr 0.00 | ms/batch 41.87 | loss  6.64 | ppl   768.06\n",
            "| epoch   1 | 25600/42599 batches | lr 0.00 | ms/batch 41.96 | loss  6.59 | ppl   728.22\n",
            "| epoch   1 | 25800/42599 batches | lr 0.00 | ms/batch 42.08 | loss  6.63 | ppl   756.73\n",
            "| epoch   1 | 26000/42599 batches | lr 0.00 | ms/batch 41.71 | loss  6.66 | ppl   780.44\n",
            "| epoch   1 | 26200/42599 batches | lr 0.00 | ms/batch 41.73 | loss  6.62 | ppl   752.28\n",
            "| epoch   1 | 26400/42599 batches | lr 0.00 | ms/batch 42.03 | loss  6.73 | ppl   840.49\n",
            "| epoch   1 | 26600/42599 batches | lr 0.00 | ms/batch 41.61 | loss  6.59 | ppl   731.16\n",
            "| epoch   1 | 26800/42599 batches | lr 0.00 | ms/batch 41.86 | loss  6.51 | ppl   675.00\n",
            "| epoch   1 | 27000/42599 batches | lr 0.00 | ms/batch 42.02 | loss  6.52 | ppl   675.54\n",
            "| epoch   1 | 27200/42599 batches | lr 0.00 | ms/batch 41.45 | loss  6.62 | ppl   749.96\n",
            "| epoch   1 | 27400/42599 batches | lr 0.00 | ms/batch 42.06 | loss  6.63 | ppl   754.68\n",
            "| epoch   1 | 27600/42599 batches | lr 0.00 | ms/batch 41.94 | loss  6.65 | ppl   771.63\n",
            "| epoch   1 | 27800/42599 batches | lr 0.00 | ms/batch 41.60 | loss  6.68 | ppl   795.32\n",
            "| epoch   1 | 28000/42599 batches | lr 0.00 | ms/batch 41.81 | loss  6.66 | ppl   779.65\n",
            "| epoch   1 | 28200/42599 batches | lr 0.00 | ms/batch 42.01 | loss  6.59 | ppl   730.87\n",
            "| epoch   1 | 28400/42599 batches | lr 0.00 | ms/batch 41.38 | loss  6.69 | ppl   805.65\n",
            "| epoch   1 | 28600/42599 batches | lr 0.00 | ms/batch 40.94 | loss  6.67 | ppl   790.75\n",
            "| epoch   1 | 28800/42599 batches | lr 0.00 | ms/batch 41.74 | loss  6.53 | ppl   684.08\n",
            "| epoch   1 | 29000/42599 batches | lr 0.00 | ms/batch 41.28 | loss  6.63 | ppl   757.05\n",
            "| epoch   1 | 29200/42599 batches | lr 0.00 | ms/batch 41.67 | loss  6.64 | ppl   766.27\n",
            "| epoch   1 | 29400/42599 batches | lr 0.00 | ms/batch 41.81 | loss  6.73 | ppl   840.16\n",
            "| epoch   1 | 29600/42599 batches | lr 0.00 | ms/batch 41.26 | loss  6.72 | ppl   825.53\n",
            "| epoch   1 | 29800/42599 batches | lr 0.00 | ms/batch 41.69 | loss  6.72 | ppl   832.43\n",
            "| epoch   1 | 30000/42599 batches | lr 0.00 | ms/batch 42.07 | loss  6.58 | ppl   723.14\n",
            "| epoch   1 | 30200/42599 batches | lr 0.00 | ms/batch 41.53 | loss  6.61 | ppl   741.27\n",
            "| epoch   1 | 30400/42599 batches | lr 0.00 | ms/batch 41.88 | loss  6.63 | ppl   757.18\n",
            "| epoch   1 | 30600/42599 batches | lr 0.00 | ms/batch 41.92 | loss  6.58 | ppl   722.50\n",
            "| epoch   1 | 30800/42599 batches | lr 0.00 | ms/batch 41.42 | loss  6.59 | ppl   729.99\n",
            "| epoch   1 | 31000/42599 batches | lr 0.00 | ms/batch 42.12 | loss  6.53 | ppl   683.14\n",
            "| epoch   1 | 31200/42599 batches | lr 0.00 | ms/batch 41.68 | loss  6.53 | ppl   686.26\n",
            "| epoch   1 | 31400/42599 batches | lr 0.00 | ms/batch 41.46 | loss  6.55 | ppl   697.11\n",
            "| epoch   1 | 31600/42599 batches | lr 0.00 | ms/batch 42.06 | loss  6.77 | ppl   872.54\n",
            "| epoch   1 | 31800/42599 batches | lr 0.00 | ms/batch 42.20 | loss  6.77 | ppl   874.49\n",
            "| epoch   1 | 32000/42599 batches | lr 0.00 | ms/batch 41.52 | loss  6.74 | ppl   844.69\n",
            "| epoch   1 | 32200/42599 batches | lr 0.00 | ms/batch 42.04 | loss  6.71 | ppl   824.49\n",
            "| epoch   1 | 32400/42599 batches | lr 0.00 | ms/batch 41.71 | loss  6.61 | ppl   739.84\n",
            "| epoch   1 | 32600/42599 batches | lr 0.00 | ms/batch 41.36 | loss  6.66 | ppl   784.11\n",
            "| epoch   1 | 32800/42599 batches | lr 0.00 | ms/batch 41.95 | loss  6.64 | ppl   762.85\n",
            "| epoch   1 | 33000/42599 batches | lr 0.00 | ms/batch 41.04 | loss  6.70 | ppl   809.94\n",
            "| epoch   1 | 33200/42599 batches | lr 0.00 | ms/batch 41.17 | loss  6.73 | ppl   834.22\n",
            "| epoch   1 | 33400/42599 batches | lr 0.00 | ms/batch 41.78 | loss  6.72 | ppl   826.35\n",
            "| epoch   1 | 33600/42599 batches | lr 0.00 | ms/batch 41.63 | loss  6.72 | ppl   832.24\n",
            "| epoch   1 | 33800/42599 batches | lr 0.00 | ms/batch 41.40 | loss  6.80 | ppl   897.58\n",
            "| epoch   1 | 34000/42599 batches | lr 0.00 | ms/batch 41.96 | loss  6.75 | ppl   855.49\n",
            "| epoch   1 | 34200/42599 batches | lr 0.00 | ms/batch 41.12 | loss  6.75 | ppl   852.32\n",
            "| epoch   1 | 34400/42599 batches | lr 0.00 | ms/batch 41.83 | loss  6.70 | ppl   810.87\n",
            "| epoch   1 | 34600/42599 batches | lr 0.00 | ms/batch 42.05 | loss  6.80 | ppl   896.42\n",
            "| epoch   1 | 34800/42599 batches | lr 0.00 | ms/batch 41.81 | loss  6.73 | ppl   833.71\n",
            "| epoch   1 | 35000/42599 batches | lr 0.00 | ms/batch 43.75 | loss  6.64 | ppl   765.14\n",
            "| epoch   1 | 35200/42599 batches | lr 0.00 | ms/batch 42.19 | loss  6.71 | ppl   818.72\n",
            "| epoch   1 | 35400/42599 batches | lr 0.00 | ms/batch 41.76 | loss  6.64 | ppl   762.86\n",
            "| epoch   1 | 35600/42599 batches | lr 0.00 | ms/batch 41.82 | loss  6.61 | ppl   744.90\n",
            "| epoch   1 | 35800/42599 batches | lr 0.00 | ms/batch 42.08 | loss  6.77 | ppl   869.27\n",
            "| epoch   1 | 36000/42599 batches | lr 0.00 | ms/batch 41.80 | loss  6.76 | ppl   864.51\n",
            "| epoch   1 | 36200/42599 batches | lr 0.00 | ms/batch 41.73 | loss  6.72 | ppl   832.83\n",
            "| epoch   1 | 36400/42599 batches | lr 0.00 | ms/batch 42.10 | loss  6.68 | ppl   793.81\n",
            "| epoch   1 | 36600/42599 batches | lr 0.00 | ms/batch 41.74 | loss  6.70 | ppl   816.08\n",
            "| epoch   1 | 36800/42599 batches | lr 0.00 | ms/batch 41.61 | loss  6.68 | ppl   795.56\n",
            "| epoch   1 | 37000/42599 batches | lr 0.00 | ms/batch 42.14 | loss  6.66 | ppl   783.13\n",
            "| epoch   1 | 37200/42599 batches | lr 0.00 | ms/batch 41.67 | loss  6.62 | ppl   750.60\n",
            "| epoch   1 | 37400/42599 batches | lr 0.00 | ms/batch 41.76 | loss  6.69 | ppl   802.73\n",
            "| epoch   1 | 37600/42599 batches | lr 0.00 | ms/batch 41.28 | loss  6.74 | ppl   843.17\n",
            "| epoch   1 | 37800/42599 batches | lr 0.00 | ms/batch 41.20 | loss  6.69 | ppl   801.70\n",
            "| epoch   1 | 38000/42599 batches | lr 0.00 | ms/batch 41.55 | loss  6.49 | ppl   658.62\n",
            "| epoch   1 | 38200/42599 batches | lr 0.00 | ms/batch 41.70 | loss  6.50 | ppl   662.31\n",
            "| epoch   1 | 38400/42599 batches | lr 0.00 | ms/batch 41.38 | loss  6.60 | ppl   732.86\n",
            "| epoch   1 | 38600/42599 batches | lr 0.00 | ms/batch 41.80 | loss  6.60 | ppl   735.00\n",
            "| epoch   1 | 38800/42599 batches | lr 0.00 | ms/batch 41.41 | loss  6.64 | ppl   768.68\n",
            "| epoch   1 | 39000/42599 batches | lr 0.00 | ms/batch 41.49 | loss  6.74 | ppl   841.96\n",
            "| epoch   1 | 39200/42599 batches | lr 0.00 | ms/batch 42.07 | loss  6.75 | ppl   853.94\n",
            "| epoch   1 | 39400/42599 batches | lr 0.00 | ms/batch 41.92 | loss  6.70 | ppl   809.34\n",
            "| epoch   1 | 39600/42599 batches | lr 0.00 | ms/batch 41.48 | loss  6.66 | ppl   779.31\n",
            "| epoch   1 | 39800/42599 batches | lr 0.00 | ms/batch 42.18 | loss  6.68 | ppl   796.62\n",
            "| epoch   1 | 40000/42599 batches | lr 0.00 | ms/batch 42.11 | loss  6.72 | ppl   824.72\n",
            "| epoch   1 | 40200/42599 batches | lr 0.00 | ms/batch 41.57 | loss  6.78 | ppl   884.37\n",
            "| epoch   1 | 40400/42599 batches | lr 0.00 | ms/batch 41.88 | loss  6.73 | ppl   836.58\n",
            "| epoch   1 | 40600/42599 batches | lr 0.00 | ms/batch 42.04 | loss  6.68 | ppl   794.74\n",
            "| epoch   1 | 40800/42599 batches | lr 0.00 | ms/batch 41.70 | loss  6.60 | ppl   736.25\n",
            "| epoch   1 | 41000/42599 batches | lr 0.00 | ms/batch 42.08 | loss  6.60 | ppl   738.46\n",
            "| epoch   1 | 41200/42599 batches | lr 0.00 | ms/batch 42.12 | loss  6.61 | ppl   740.97\n",
            "| epoch   1 | 41400/42599 batches | lr 0.00 | ms/batch 41.59 | loss  6.58 | ppl   719.82\n",
            "| epoch   1 | 41600/42599 batches | lr 0.00 | ms/batch 41.99 | loss  6.55 | ppl   701.12\n",
            "| epoch   1 | 41800/42599 batches | lr 0.00 | ms/batch 42.17 | loss  6.58 | ppl   722.83\n",
            "| epoch   1 | 42000/42599 batches | lr 0.00 | ms/batch 41.49 | loss  6.63 | ppl   757.00\n",
            "| epoch   1 | 42200/42599 batches | lr 0.00 | ms/batch 41.53 | loss  6.63 | ppl   757.79\n",
            "| epoch   1 | 42400/42599 batches | lr 0.00 | ms/batch 41.40 | loss  6.63 | ppl   758.88\n"
          ]
        }
      ],
      "source": [
        "for epoch in range(1, epochs + 1):\n",
        "    epoch_start_time = time.time()\n",
        "    train(model, data)\n",
        "    scheduler.step()"
      ]
    },
    {
      "cell_type": "code",
      "execution_count": null,
      "id": "3EElyKVqUlwW",
      "metadata": {
        "id": "3EElyKVqUlwW"
      },
      "outputs": [],
      "source": [
        "torch.save(model.state_dict(), 'transformer_weights')"
      ]
    },
    {
      "cell_type": "code",
      "execution_count": 10,
      "id": "BwQRQ2yUUrcV",
      "metadata": {
        "colab": {
          "base_uri": "https://localhost:8080/"
        },
        "id": "BwQRQ2yUUrcV",
        "outputId": "41e2ef91-b12f-467e-8e8a-e89877d9d1ac"
      },
      "outputs": [
        {
          "data": {
            "text/plain": [
              "TransformerModel(\n",
              "  (pos_encoder): PositionalEncoding(\n",
              "    (dropout): Dropout(p=0.2, inplace=False)\n",
              "  )\n",
              "  (transformer_encoder): TransformerEncoder(\n",
              "    (layers): ModuleList(\n",
              "      (0-1): 2 x TransformerEncoderLayer(\n",
              "        (self_attn): MultiheadAttention(\n",
              "          (out_proj): NonDynamicallyQuantizableLinear(in_features=128, out_features=128, bias=True)\n",
              "        )\n",
              "        (linear1): Linear(in_features=128, out_features=128, bias=True)\n",
              "        (dropout): Dropout(p=0.2, inplace=False)\n",
              "        (linear2): Linear(in_features=128, out_features=128, bias=True)\n",
              "        (norm1): LayerNorm((128,), eps=1e-05, elementwise_affine=True)\n",
              "        (norm2): LayerNorm((128,), eps=1e-05, elementwise_affine=True)\n",
              "        (dropout1): Dropout(p=0.2, inplace=False)\n",
              "        (dropout2): Dropout(p=0.2, inplace=False)\n",
              "      )\n",
              "    )\n",
              "  )\n",
              "  (encoder): Embedding(339687, 128)\n",
              "  (decoder): Linear(in_features=128, out_features=339687, bias=True)\n",
              ")"
            ]
          },
          "execution_count": 10,
          "metadata": {},
          "output_type": "execute_result"
        }
      ],
      "source": [
        "model.load_state_dict(torch.load('transformer_weights.zip', map_location=device))\n",
        "model.eval()\n",
        "model.to('cpu')"
      ]
    },
    {
      "cell_type": "code",
      "execution_count": 11,
      "id": "IcRn_IfkVY2-",
      "metadata": {
        "id": "IcRn_IfkVY2-"
      },
      "outputs": [],
      "source": [
        "import os\n",
        "import gensim\n",
        "from gensim import utils\n",
        "from tqdm.notebook import tqdm\n",
        "from sklearn.neighbors import kneighbors_graph\n",
        "from sklearn import metrics\n",
        "from sklearn.preprocessing import minmax_scale, LabelEncoder, StandardScaler\n",
        "from sklearn.decomposition import PCA\n",
        "from sklearn.cluster import k_means, SpectralClustering\n",
        "import networkx as nx\n",
        "import matplotlib.pyplot as plt\n",
        "from collections import Counter\n",
        "import numpy as np\n",
        "import pandas as pd"
      ]
    },
    {
      "cell_type": "code",
      "execution_count": 12,
      "id": "2dbd58d3",
      "metadata": {},
      "outputs": [],
      "source": [
        "class Dataloader:\n",
        "    def __iter__(self):\n",
        "        for genre in ['ballads', 'elegies', 'songs', 'novels']:\n",
        "            for file in os.listdir('../datasets/lemmatized/' + genre):\n",
        "                with open('../datasets/lemmatized/' + genre + '/' + file, 'r', encoding='utf-8') as f:\n",
        "                    fname = '../datasets/lemmatized/' + genre + '/' + file\n",
        "                    if genre == 'novels':\n",
        "                        author = file.split('.')[0]\n",
        "                    elif genre == 'ballads':\n",
        "                        author = file.split('_')[2]\n",
        "                    else:\n",
        "                        author = file.split('_')[1]\n",
        "                    yield utils.simple_preprocess(f.read()), genre, author, fname\n",
        "sentences = Dataloader()\n",
        "\n",
        "fnames = []\n",
        "texts = []\n",
        "true_labels = []\n",
        "authors = []\n",
        "\n",
        "for (sent, genre, author, fname) in sentences:\n",
        "    if not sent:\n",
        "        continue\n",
        "    texts. append(sent)\n",
        "    true_labels.append(genre)\n",
        "    authors.append(author)\n",
        "    fnames.append(fname)"
      ]
    },
    {
      "cell_type": "code",
      "execution_count": 13,
      "id": "3eacaef5",
      "metadata": {},
      "outputs": [],
      "source": [
        "total_words = []\n",
        "for t in texts:\n",
        "    for w in t:\n",
        "        total_words.append(w)\n",
        "\n",
        "not_in_vocab = [x for x in set(total_words) if x not in vocab]\n",
        "texts_ = []\n",
        "for text in texts:\n",
        "    text_clean = []\n",
        "    for w in text:\n",
        "        if w not in not_in_vocab:\n",
        "            text_clean.append(w)\n",
        "    texts_.append(text_clean)"
      ]
    },
    {
      "cell_type": "code",
      "execution_count": 14,
      "id": "53a0601d",
      "metadata": {},
      "outputs": [],
      "source": [
        "def getprob(sentence):\n",
        "    model.eval()\n",
        "    model.to('cpu')\n",
        "    with torch.no_grad():    \n",
        "        src = torch.tensor(vocab(sentence), dtype=torch.long)[:, None]\n",
        "        src_mask = generate_square_subsequent_mask(bptt).to(device)\n",
        "        output = model(src, src_mask)\n",
        "        probabilities = output.view(-1, ntokens)\n",
        "    return probabilities"
      ]
    },
    {
      "cell_type": "code",
      "execution_count": 42,
      "id": "3c06e72e",
      "metadata": {
        "colab": {
          "base_uri": "https://localhost:8080/",
          "height": 240
        },
        "id": "3c06e72e",
        "outputId": "1f629ada-60fd-42f4-f0d9-8a9f9f4f6674"
      },
      "outputs": [
        {
          "data": {
            "application/json": {
              "ascii": false,
              "bar_format": null,
              "colour": null,
              "elapsed": 0.020073890686035156,
              "initial": 0,
              "n": 0,
              "ncols": null,
              "nrows": null,
              "postfix": null,
              "prefix": "",
              "rate": null,
              "total": 1826,
              "unit": "it",
              "unit_divisor": 1000,
              "unit_scale": false
            },
            "application/vnd.jupyter.widget-view+json": {
              "model_id": "ae3dbcc4bcf84088a0b4acb4c9d9b677",
              "version_major": 2,
              "version_minor": 0
            },
            "text/plain": [
              "  0%|          | 0/1826 [00:00<?, ?it/s]"
            ]
          },
          "metadata": {},
          "output_type": "display_data"
        }
      ],
      "source": [
        "#np.random.seed(0)\n",
        "#random_num = np.random.randint(1826, size=100)\n",
        "graphs = []\n",
        "text_len = []\n",
        "\n",
        "for num_sentence, sentence in enumerate(tqdm(texts_)):\n",
        "    #if num_sentence not in random_num:\n",
        "    #    continue\n",
        "    if not sentence:\n",
        "        continue\n",
        "    text_len.append(len(sentence))\n",
        "    node_type = dict()\n",
        "    edge_type = dict()\n",
        "    node_weight = dict()\n",
        "    nodes = []\n",
        "    edges = []\n",
        "    weights = []\n",
        "    sent_vocab = vocab.lookup_indices(list(set(sentence)))\n",
        "    counter = Counter(sentence)\n",
        "    top10 = counter.most_common(10)\n",
        "    probs = getprob([x[0] for x in top10])\n",
        "    for num, (word_i, count) in enumerate(top10):\n",
        "        nodes.append(word_i)\n",
        "        node_weight[word_i] = count / len(sentence)\n",
        "        node_type[word_i] = 'core'\n",
        "        w_probs = probs[num]\n",
        "        probs_, indeces = torch.sort(w_probs, descending=True)\n",
        "        indeces_filtered = []\n",
        "        probs_filtered = []\n",
        "        for num_, index in enumerate(indeces):\n",
        "            if len(indeces_filtered) < 10:\n",
        "                if index in sent_vocab:\n",
        "                    indeces_filtered.append(index)\n",
        "                    probs_filtered.append(probs_[num_])\n",
        "        syns = [vocab.lookup_token(i) for i in indeces_filtered[:10]]\n",
        "        for num, word_j in enumerate(syns):\n",
        "            if word_j not in nodes:\n",
        "                nodes.append(word_j)\n",
        "                node_weight[word_j] = counter[word_j] / len(sentence)\n",
        "            edges.append([word_i, word_j, probs_filtered[num]])\n",
        "    graph = nx.Graph()\n",
        "    graph.add_nodes_from(nodes)\n",
        "    graph.add_weighted_edges_from(edges)\n",
        "    for node, degree in graph.degree:\n",
        "        if degree == 1:\n",
        "            node_type[node] = 'boundary'\n",
        "    for node in set(graph.nodes).difference(node_type.keys()):\n",
        "        node_type[node] = 'multiple'\n",
        "    nx.set_node_attributes(graph, node_type, 'node_type')\n",
        "    nx.set_node_attributes(graph, node_weight, 'node_weight')\n",
        "    for (u, v) in graph.edges:\n",
        "        types = set(nx.get_node_attributes(graph.subgraph([u, v]), 'node_type').values())\n",
        "        if types == {'core'}:\n",
        "            edge_type[(u, v)] = 'core'\n",
        "        elif types == {'core', 'multiple'}:\n",
        "            edge_type[(u, v)] = 'multiple'\n",
        "        else:\n",
        "            edge_type[(u, v)] = 'boundary'\n",
        "    nx.set_edge_attributes(graph, edge_type, 'edge_type')\n",
        "    graphs.append(graph)"
      ]
    },
    {
      "cell_type": "code",
      "execution_count": 41,
      "id": "2917139b",
      "metadata": {
        "id": "2917139b"
      },
      "outputs": [
        {
          "data": {
            "image/png": "[encoded data removed]",
            "text/plain": [
              "<Figure size 1000x1000 with 1 Axes>"
            ]
          },
          "metadata": {},
          "output_type": "display_data"
        }
      ],
      "source": [
        "plt.figure(figsize=(10, 10))\n",
        "graph = nx.Graph(graphs[0])\n",
        "cc_nodes = list(nx.connected_components(graph))[0]\n",
        "subgraph = graph.subgraph(cc_nodes)\n",
        "weights = np.array(list(nx.get_edge_attributes(subgraph, 'weight').values()))\n",
        "nx.draw_networkx(subgraph, node_size=100, width=weights/4)"
      ]
    },
    {
      "cell_type": "code",
      "execution_count": null,
      "id": "fef2c211",
      "metadata": {
        "id": "fef2c211"
      },
      "outputs": [],
      "source": []
    }
  ],
  "metadata": {
    "accelerator": "GPU",
    "colab": {
      "gpuType": "V100",
      "provenance": []
    },
    "kernelspec": {
      "display_name": "Python 3",
      "name": "python3"
    },
    "language_info": {
      "codemirror_mode": {
        "name": "ipython",
        "version": 3
      },
      "file_extension": ".py",
      "mimetype": "text/x-python",
      "name": "python",
      "nbconvert_exporter": "python",
      "pygments_lexer": "ipython3",
      "version": "3.10.2"
    },
    "widgets": {
      "application/vnd.jupyter.widget-state+json": {
        "166c7b1d43714918ba5be3510b51ae75": {
          "model_module": "@jupyter-widgets/controls",
          "model_module_version": "1.5.0",
          "model_name": "DescriptionStyleModel",
          "state": {
            "_model_module": "@jupyter-widgets/controls",
            "_model_module_version": "1.5.0",
            "_model_name": "DescriptionStyleModel",
            "_view_count": null,
            "_view_module": "@jupyter-widgets/base",
            "_view_module_version": "1.2.0",
            "_view_name": "StyleView",
            "description_width": ""
          }
        },
        "3800de5e5fb941a0bffed26648834d94": {
          "model_module": "@jupyter-widgets/base",
          "model_module_version": "1.2.0",
          "model_name": "LayoutModel",
          "state": {
            "_model_module": "@jupyter-widgets/base",
            "_model_module_version": "1.2.0",
            "_model_name": "LayoutModel",
            "_view_count": null,
            "_view_module": "@jupyter-widgets/base",
            "_view_module_version": "1.2.0",
            "_view_name": "LayoutView",
            "align_content": null,
            "align_items": null,
            "align_self": null,
            "border": null,
            "bottom": null,
            "display": null,
            "flex": null,
            "flex_flow": null,
            "grid_area": null,
            "grid_auto_columns": null,
            "grid_auto_flow": null,
            "grid_auto_rows": null,
            "grid_column": null,
            "grid_gap": null,
            "grid_row": null,
            "grid_template_areas": null,
            "grid_template_columns": null,
            "grid_template_rows": null,
            "height": null,
            "justify_content": null,
            "justify_items": null,
            "left": null,
            "margin": null,
            "max_height": null,
            "max_width": null,
            "min_height": null,
            "min_width": null,
            "object_fit": null,
            "object_position": null,
            "order": null,
            "overflow": null,
            "overflow_x": null,
            "overflow_y": null,
            "padding": null,
            "right": null,
            "top": null,
            "visibility": null,
            "width": null
          }
        },
        "552b24fa7224469993c51867d9d20144": {
          "model_module": "@jupyter-widgets/controls",
          "model_module_version": "1.5.0",
          "model_name": "HTMLModel",
          "state": {
            "_dom_classes": [],
            "_model_module": "@jupyter-widgets/controls",
            "_model_module_version": "1.5.0",
            "_model_name": "HTMLModel",
            "_view_count": null,
            "_view_module": "@jupyter-widgets/controls",
            "_view_module_version": "1.5.0",
            "_view_name": "HTMLView",
            "description": "",
            "description_tooltip": null,
            "layout": "IPY_MODEL_722a65f668374b01a58c021d56fa8bc1",
            "placeholder": "​",
            "style": "IPY_MODEL_166c7b1d43714918ba5be3510b51ae75",
            "value": "100%"
          }
        },
        "5860fc41e92f457ab9b0e4d305bb80ed": {
          "model_module": "@jupyter-widgets/base",
          "model_module_version": "1.2.0",
          "model_name": "LayoutModel",
          "state": {
            "_model_module": "@jupyter-widgets/base",
            "_model_module_version": "1.2.0",
            "_model_name": "LayoutModel",
            "_view_count": null,
            "_view_module": "@jupyter-widgets/base",
            "_view_module_version": "1.2.0",
            "_view_name": "LayoutView",
            "align_content": null,
            "align_items": null,
            "align_self": null,
            "border": null,
            "bottom": null,
            "display": null,
            "flex": null,
            "flex_flow": null,
            "grid_area": null,
            "grid_auto_columns": null,
            "grid_auto_flow": null,
            "grid_auto_rows": null,
            "grid_column": null,
            "grid_gap": null,
            "grid_row": null,
            "grid_template_areas": null,
            "grid_template_columns": null,
            "grid_template_rows": null,
            "height": null,
            "justify_content": null,
            "justify_items": null,
            "left": null,
            "margin": null,
            "max_height": null,
            "max_width": null,
            "min_height": null,
            "min_width": null,
            "object_fit": null,
            "object_position": null,
            "order": null,
            "overflow": null,
            "overflow_x": null,
            "overflow_y": null,
            "padding": null,
            "right": null,
            "top": null,
            "visibility": null,
            "width": null
          }
        },
        "6d4ac6f89cf94ac8b065a2e70b962fb0": {
          "model_module": "@jupyter-widgets/controls",
          "model_module_version": "1.5.0",
          "model_name": "HBoxModel",
          "state": {
            "_dom_classes": [],
            "_model_module": "@jupyter-widgets/controls",
            "_model_module_version": "1.5.0",
            "_model_name": "HBoxModel",
            "_view_count": null,
            "_view_module": "@jupyter-widgets/controls",
            "_view_module_version": "1.5.0",
            "_view_name": "HBoxView",
            "box_style": "",
            "children": [
              "IPY_MODEL_552b24fa7224469993c51867d9d20144",
              "IPY_MODEL_a6d6a5aa14b4416698726e236dcca51c",
              "IPY_MODEL_955403000531448aa972f227d8132d16"
            ],
            "layout": "IPY_MODEL_efc564ad18f94fbfa0c30a13b57aa365"
          }
        },
        "722a65f668374b01a58c021d56fa8bc1": {
          "model_module": "@jupyter-widgets/base",
          "model_module_version": "1.2.0",
          "model_name": "LayoutModel",
          "state": {
            "_model_module": "@jupyter-widgets/base",
            "_model_module_version": "1.2.0",
            "_model_name": "LayoutModel",
            "_view_count": null,
            "_view_module": "@jupyter-widgets/base",
            "_view_module_version": "1.2.0",
            "_view_name": "LayoutView",
            "align_content": null,
            "align_items": null,
            "align_self": null,
            "border": null,
            "bottom": null,
            "display": null,
            "flex": null,
            "flex_flow": null,
            "grid_area": null,
            "grid_auto_columns": null,
            "grid_auto_flow": null,
            "grid_auto_rows": null,
            "grid_column": null,
            "grid_gap": null,
            "grid_row": null,
            "grid_template_areas": null,
            "grid_template_columns": null,
            "grid_template_rows": null,
            "height": null,
            "justify_content": null,
            "justify_items": null,
            "left": null,
            "margin": null,
            "max_height": null,
            "max_width": null,
            "min_height": null,
            "min_width": null,
            "object_fit": null,
            "object_position": null,
            "order": null,
            "overflow": null,
            "overflow_x": null,
            "overflow_y": null,
            "padding": null,
            "right": null,
            "top": null,
            "visibility": null,
            "width": null
          }
        },
        "757236d8e1a942e0ba71ad29048f2315": {
          "model_module": "@jupyter-widgets/controls",
          "model_module_version": "1.5.0",
          "model_name": "DescriptionStyleModel",
          "state": {
            "_model_module": "@jupyter-widgets/controls",
            "_model_module_version": "1.5.0",
            "_model_name": "DescriptionStyleModel",
            "_view_count": null,
            "_view_module": "@jupyter-widgets/base",
            "_view_module_version": "1.2.0",
            "_view_name": "StyleView",
            "description_width": ""
          }
        },
        "955403000531448aa972f227d8132d16": {
          "model_module": "@jupyter-widgets/controls",
          "model_module_version": "1.5.0",
          "model_name": "HTMLModel",
          "state": {
            "_dom_classes": [],
            "_model_module": "@jupyter-widgets/controls",
            "_model_module_version": "1.5.0",
            "_model_name": "HTMLModel",
            "_view_count": null,
            "_view_module": "@jupyter-widgets/controls",
            "_view_module_version": "1.5.0",
            "_view_name": "HTMLView",
            "description": "",
            "description_tooltip": null,
            "layout": "IPY_MODEL_5860fc41e92f457ab9b0e4d305bb80ed",
            "placeholder": "​",
            "style": "IPY_MODEL_757236d8e1a942e0ba71ad29048f2315",
            "value": " 42600/42600 [29:38&lt;00:00, 25.44it/s]"
          }
        },
        "a6d6a5aa14b4416698726e236dcca51c": {
          "model_module": "@jupyter-widgets/controls",
          "model_module_version": "1.5.0",
          "model_name": "FloatProgressModel",
          "state": {
            "_dom_classes": [],
            "_model_module": "@jupyter-widgets/controls",
            "_model_module_version": "1.5.0",
            "_model_name": "FloatProgressModel",
            "_view_count": null,
            "_view_module": "@jupyter-widgets/controls",
            "_view_module_version": "1.5.0",
            "_view_name": "ProgressView",
            "bar_style": "success",
            "description": "",
            "description_tooltip": null,
            "layout": "IPY_MODEL_3800de5e5fb941a0bffed26648834d94",
            "max": 42600,
            "min": 0,
            "orientation": "horizontal",
            "style": "IPY_MODEL_c7f8959a7fe64ea7b102a51835298490",
            "value": 42600
          }
        },
        "c7f8959a7fe64ea7b102a51835298490": {
          "model_module": "@jupyter-widgets/controls",
          "model_module_version": "1.5.0",
          "model_name": "ProgressStyleModel",
          "state": {
            "_model_module": "@jupyter-widgets/controls",
            "_model_module_version": "1.5.0",
            "_model_name": "ProgressStyleModel",
            "_view_count": null,
            "_view_module": "@jupyter-widgets/base",
            "_view_module_version": "1.2.0",
            "_view_name": "StyleView",
            "bar_color": null,
            "description_width": ""
          }
        },
        "efc564ad18f94fbfa0c30a13b57aa365": {
          "model_module": "@jupyter-widgets/base",
          "model_module_version": "1.2.0",
          "model_name": "LayoutModel",
          "state": {
            "_model_module": "@jupyter-widgets/base",
            "_model_module_version": "1.2.0",
            "_model_name": "LayoutModel",
            "_view_count": null,
            "_view_module": "@jupyter-widgets/base",
            "_view_module_version": "1.2.0",
            "_view_name": "LayoutView",
            "align_content": null,
            "align_items": null,
            "align_self": null,
            "border": null,
            "bottom": null,
            "display": null,
            "flex": null,
            "flex_flow": null,
            "grid_area": null,
            "grid_auto_columns": null,
            "grid_auto_flow": null,
            "grid_auto_rows": null,
            "grid_column": null,
            "grid_gap": null,
            "grid_row": null,
            "grid_template_areas": null,
            "grid_template_columns": null,
            "grid_template_rows": null,
            "height": null,
            "justify_content": null,
            "justify_items": null,
            "left": null,
            "margin": null,
            "max_height": null,
            "max_width": null,
            "min_height": null,
            "min_width": null,
            "object_fit": null,
            "object_position": null,
            "order": null,
            "overflow": null,
            "overflow_x": null,
            "overflow_y": null,
            "padding": null,
            "right": null,
            "top": null,
            "visibility": null,
            "width": null
          }
        }
      }
    }
  },
  "nbformat": 4,
  "nbformat_minor": 5
}
