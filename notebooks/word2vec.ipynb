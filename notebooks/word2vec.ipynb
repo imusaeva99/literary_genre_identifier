{
 "cells": [
  {
   "cell_type": "code",
   "execution_count": 14,
   "metadata": {},
   "outputs": [],
   "source": [
    "import os\n",
    "import gensim\n",
    "from gensim import utils\n",
    "from tqdm.notebook import tqdm\n",
    "from sklearn.neighbors import kneighbors_graph\n",
    "import networkx as nx\n",
    "import matplotlib.pyplot as plt"
   ]
  },
  {
   "cell_type": "code",
   "execution_count": 15,
   "metadata": {},
   "outputs": [],
   "source": [
    "class Dataloader:\n",
    "    def __iter__(self):\n",
    "        for genre in tqdm(['ballads', 'elegies', 'songs', 'novels'], leave=True):\n",
    "            for file in tqdm(os.listdir('../datasets/lemmatized/' + genre), leave=False):\n",
    "                with open('../datasets/lemmatized/' + genre + '/' + file, 'r', encoding='utf-8') as f:\n",
    "                    yield utils.simple_preprocess(f.read())\n",
    "sentences = Dataloader()"
   ]
  },
  {
   "cell_type": "code",
   "execution_count": null,
   "metadata": {},
   "outputs": [],
   "source": [
    "word2vec = gensim.models.Word2Vec(sentences=sentences, vector_size=128, min_count=1)"
   ]
  },
  {
   "cell_type": "code",
   "execution_count": 16,
   "metadata": {},
   "outputs": [],
   "source": [
    "#word2vec.save('word2vec_model')\n",
    "word2vec = gensim.models.Word2Vec.load('word2vec_model')"
   ]
  },
  {
   "cell_type": "code",
   "execution_count": 17,
   "metadata": {},
   "outputs": [
    {
     "data": {
      "text/plain": [
       "[('король', 0.823395848274231),\n",
       " ('царевич', 0.8209406137466431),\n",
       " ('патриарх', 0.8094379901885986),\n",
       " ('престол', 0.7853482365608215),\n",
       " ('государь', 0.7745516300201416),\n",
       " ('император', 0.7719162106513977),\n",
       " ('иоанн', 0.7696580290794373),\n",
       " ('владыка', 0.7589395642280579),\n",
       " ('православный', 0.7550569772720337),\n",
       " ('годунов', 0.7452263832092285)]"
      ]
     },
     "execution_count": 17,
     "metadata": {},
     "output_type": "execute_result"
    }
   ],
   "source": [
    "word2vec.wv.most_similar(positive='царь', topn=10)"
   ]
  },
  {
   "cell_type": "code",
   "execution_count": 30,
   "metadata": {},
   "outputs": [
    {
     "data": {
      "application/json": {
       "ascii": false,
       "bar_format": null,
       "colour": null,
       "elapsed": 0.029027938842773438,
       "initial": 0,
       "n": 0,
       "ncols": null,
       "nrows": null,
       "postfix": null,
       "prefix": "",
       "rate": null,
       "total": 4,
       "unit": "it",
       "unit_divisor": 1000,
       "unit_scale": false
      },
      "application/vnd.jupyter.widget-view+json": {
       "model_id": "45bf76f0cede4f07ad6df86e4e1dee7d",
       "version_major": 2,
       "version_minor": 0
      },
      "text/plain": [
       "  0%|          | 0/4 [00:00<?, ?it/s]"
      ]
     },
     "metadata": {},
     "output_type": "display_data"
    },
    {
     "data": {
      "application/json": {
       "ascii": false,
       "bar_format": null,
       "colour": null,
       "elapsed": 0.021164894104003906,
       "initial": 0,
       "n": 0,
       "ncols": null,
       "nrows": null,
       "postfix": null,
       "prefix": "",
       "rate": null,
       "total": 189,
       "unit": "it",
       "unit_divisor": 1000,
       "unit_scale": false
      },
      "application/vnd.jupyter.widget-view+json": {
       "model_id": "ebaf1721a2184f2fbf79fc807b6f1948",
       "version_major": 2,
       "version_minor": 0
      },
      "text/plain": [
       "  0%|          | 0/189 [00:00<?, ?it/s]"
      ]
     },
     "metadata": {},
     "output_type": "display_data"
    },
    {
     "data": {
      "application/json": {
       "ascii": false,
       "bar_format": null,
       "colour": null,
       "elapsed": 0.018772363662719727,
       "initial": 0,
       "n": 0,
       "ncols": null,
       "nrows": null,
       "postfix": null,
       "prefix": "",
       "rate": null,
       "total": 509,
       "unit": "it",
       "unit_divisor": 1000,
       "unit_scale": false
      },
      "application/vnd.jupyter.widget-view+json": {
       "model_id": "05e5bf03219444f0bbb0e648bcfbf25d",
       "version_major": 2,
       "version_minor": 0
      },
      "text/plain": [
       "  0%|          | 0/509 [00:00<?, ?it/s]"
      ]
     },
     "metadata": {},
     "output_type": "display_data"
    },
    {
     "data": {
      "application/json": {
       "ascii": false,
       "bar_format": null,
       "colour": null,
       "elapsed": 0.05693411827087402,
       "initial": 0,
       "n": 0,
       "ncols": null,
       "nrows": null,
       "postfix": null,
       "prefix": "",
       "rate": null,
       "total": 623,
       "unit": "it",
       "unit_divisor": 1000,
       "unit_scale": false
      },
      "application/vnd.jupyter.widget-view+json": {
       "model_id": "a4b2b5c11cd24329a1925657ac27ed02",
       "version_major": 2,
       "version_minor": 0
      },
      "text/plain": [
       "  0%|          | 0/623 [00:00<?, ?it/s]"
      ]
     },
     "metadata": {},
     "output_type": "display_data"
    },
    {
     "data": {
      "application/json": {
       "ascii": false,
       "bar_format": null,
       "colour": null,
       "elapsed": 0.01051187515258789,
       "initial": 0,
       "n": 0,
       "ncols": null,
       "nrows": null,
       "postfix": null,
       "prefix": "",
       "rate": null,
       "total": 506,
       "unit": "it",
       "unit_divisor": 1000,
       "unit_scale": false
      },
      "application/vnd.jupyter.widget-view+json": {
       "model_id": "afb655addfd443e2b1b7a8d5fa20acf8",
       "version_major": 2,
       "version_minor": 0
      },
      "text/plain": [
       "  0%|          | 0/506 [00:00<?, ?it/s]"
      ]
     },
     "metadata": {},
     "output_type": "display_data"
    },
    {
     "name": "stdout",
     "output_type": "stream",
     "text": [
      "graphs built in 8842.758 s\n"
     ]
    }
   ],
   "source": [
    "from collections import Counter\n",
    "from time import time\n",
    "import operator\n",
    "\n",
    "graphs = []\n",
    "t0 = time()\n",
    "for sentence in sentences:\n",
    "    if not sentence:\n",
    "        continue\n",
    "    nodes = []\n",
    "    edges = []\n",
    "    top10 = Counter(sentence).most_common(10)\n",
    "    for word, freq in top10:\n",
    "        similarities = {}\n",
    "        for sent_word in sentence:\n",
    "            sim = word2vec.wv.similarity(word, sent_word)\n",
    "            similarities[sent_word] = sim\n",
    "        sorted_d = sorted(similarities.items(), key=operator.itemgetter(1),reverse=True)\n",
    "        top10_wv = sorted_d[:10]\n",
    "        nodes.append(word)\n",
    "        for syn, vec in top10_wv:\n",
    "            if syn not in nodes:\n",
    "                nodes.append(syn)\n",
    "                edges.append([word, syn])\n",
    "    graph = nx.Graph()\n",
    "    graph.add_nodes_from(nodes)\n",
    "    graph.add_edges_from(edges)\n",
    "    mapping = {i: token for i, token in enumerate(nodes)}\n",
    "    graph = nx.relabel_nodes(graph, mapping)\n",
    "    graph.remove_edges_from(nx.selfloop_edges(graph))\n",
    "    graphs.append(graph)\n",
    "\n",
    "print(f\"graphs built in {time() - t0:.3f} s\")"
   ]
  },
  {
   "cell_type": "code",
   "execution_count": 31,
   "metadata": {},
   "outputs": [
    {
     "data": {
      "image/png": "[encoded data removed]",
      "text/plain": [
       "<Figure size 640x480 with 1 Axes>"
      ]
     },
     "metadata": {},
     "output_type": "display_data"
    }
   ],
   "source": [
    "nx.draw_networkx(graphs[0], node_size=100, width=0.2)\n",
    "#plt.xlim(-0.07, 0.03)\n",
    "#plt.ylim(-0.05, 0.05)"
   ]
  },
  {
   "cell_type": "code",
   "execution_count": 32,
   "metadata": {},
   "outputs": [
    {
     "data": {
      "image/png": "[encoded data removed]",
      "text/plain": [
       "<Figure size 640x480 with 1 Axes>"
      ]
     },
     "metadata": {},
     "output_type": "display_data"
    }
   ],
   "source": [
    "nx.draw_networkx(graphs[1], node_size=100, width=0.2)"
   ]
  },
  {
   "cell_type": "code",
   "execution_count": 33,
   "metadata": {},
   "outputs": [
    {
     "data": {
      "application/json": {
       "ascii": false,
       "bar_format": null,
       "colour": null,
       "elapsed": 0.009510040283203125,
       "initial": 0,
       "n": 0,
       "ncols": null,
       "nrows": null,
       "postfix": null,
       "prefix": "",
       "rate": null,
       "total": 4,
       "unit": "it",
       "unit_divisor": 1000,
       "unit_scale": false
      },
      "application/vnd.jupyter.widget-view+json": {
       "model_id": "184402895b944d7c8430292474db5820",
       "version_major": 2,
       "version_minor": 0
      },
      "text/plain": [
       "  0%|          | 0/4 [00:00<?, ?it/s]"
      ]
     },
     "metadata": {},
     "output_type": "display_data"
    },
    {
     "data": {
      "application/json": {
       "ascii": false,
       "bar_format": null,
       "colour": null,
       "elapsed": 0.011938095092773438,
       "initial": 0,
       "n": 0,
       "ncols": null,
       "nrows": null,
       "postfix": null,
       "prefix": "",
       "rate": null,
       "total": 189,
       "unit": "it",
       "unit_divisor": 1000,
       "unit_scale": false
      },
      "application/vnd.jupyter.widget-view+json": {
       "model_id": "1be5bf0f5d34439290f8dcbbe9d9a448",
       "version_major": 2,
       "version_minor": 0
      },
      "text/plain": [
       "  0%|          | 0/189 [00:00<?, ?it/s]"
      ]
     },
     "metadata": {},
     "output_type": "display_data"
    },
    {
     "data": {
      "application/json": {
       "ascii": false,
       "bar_format": null,
       "colour": null,
       "elapsed": 0.026123046875,
       "initial": 0,
       "n": 0,
       "ncols": null,
       "nrows": null,
       "postfix": null,
       "prefix": "",
       "rate": null,
       "total": 509,
       "unit": "it",
       "unit_divisor": 1000,
       "unit_scale": false
      },
      "application/vnd.jupyter.widget-view+json": {
       "model_id": "e18c998fd89a4cf2b91981e8754c77af",
       "version_major": 2,
       "version_minor": 0
      },
      "text/plain": [
       "  0%|          | 0/509 [00:00<?, ?it/s]"
      ]
     },
     "metadata": {},
     "output_type": "display_data"
    },
    {
     "data": {
      "application/json": {
       "ascii": false,
       "bar_format": null,
       "colour": null,
       "elapsed": 0.016794681549072266,
       "initial": 0,
       "n": 0,
       "ncols": null,
       "nrows": null,
       "postfix": null,
       "prefix": "",
       "rate": null,
       "total": 623,
       "unit": "it",
       "unit_divisor": 1000,
       "unit_scale": false
      },
      "application/vnd.jupyter.widget-view+json": {
       "model_id": "841217782cd540689c4e1ca4b85e8fca",
       "version_major": 2,
       "version_minor": 0
      },
      "text/plain": [
       "  0%|          | 0/623 [00:00<?, ?it/s]"
      ]
     },
     "metadata": {},
     "output_type": "display_data"
    },
    {
     "data": {
      "application/json": {
       "ascii": false,
       "bar_format": null,
       "colour": null,
       "elapsed": 0.0735478401184082,
       "initial": 0,
       "n": 0,
       "ncols": null,
       "nrows": null,
       "postfix": null,
       "prefix": "",
       "rate": null,
       "total": 506,
       "unit": "it",
       "unit_divisor": 1000,
       "unit_scale": false
      },
      "application/vnd.jupyter.widget-view+json": {
       "model_id": "c2a1ee85090446b0a7b09da9e0d85e15",
       "version_major": 2,
       "version_minor": 0
      },
      "text/plain": [
       "  0%|          | 0/506 [00:00<?, ?it/s]"
      ]
     },
     "metadata": {},
     "output_type": "display_data"
    }
   ],
   "source": [
    "sent_len = [len(sent) for sent in sentences if sent]"
   ]
  },
  {
   "cell_type": "code",
   "execution_count": 34,
   "metadata": {},
   "outputs": [
    {
     "name": "stdout",
     "output_type": "stream",
     "text": [
      "1826\n",
      "1826\n"
     ]
    }
   ],
   "source": [
    "print(len(graphs))\n",
    "print(len(sent_len))"
   ]
  },
  {
   "cell_type": "code",
   "execution_count": 35,
   "metadata": {},
   "outputs": [
    {
     "data": {
      "application/json": {
       "ascii": false,
       "bar_format": null,
       "colour": null,
       "elapsed": 0.008373022079467773,
       "initial": 0,
       "n": 0,
       "ncols": null,
       "nrows": null,
       "postfix": null,
       "prefix": "",
       "rate": null,
       "total": 4,
       "unit": "it",
       "unit_divisor": 1000,
       "unit_scale": false
      },
      "application/vnd.jupyter.widget-view+json": {
       "model_id": "71a95b62d21a48c49f758dcb057b0f47",
       "version_major": 2,
       "version_minor": 0
      },
      "text/plain": [
       "  0%|          | 0/4 [00:00<?, ?it/s]"
      ]
     },
     "metadata": {},
     "output_type": "display_data"
    },
    {
     "data": {
      "application/json": {
       "ascii": false,
       "bar_format": null,
       "colour": null,
       "elapsed": 0.04636716842651367,
       "initial": 0,
       "n": 0,
       "ncols": null,
       "nrows": null,
       "postfix": null,
       "prefix": "",
       "rate": null,
       "total": 189,
       "unit": "it",
       "unit_divisor": 1000,
       "unit_scale": false
      },
      "application/vnd.jupyter.widget-view+json": {
       "model_id": "8b5b1173bd944adb9a1456b01d870e5a",
       "version_major": 2,
       "version_minor": 0
      },
      "text/plain": [
       "  0%|          | 0/189 [00:00<?, ?it/s]"
      ]
     },
     "metadata": {},
     "output_type": "display_data"
    },
    {
     "data": {
      "application/json": {
       "ascii": false,
       "bar_format": null,
       "colour": null,
       "elapsed": 0.008831977844238281,
       "initial": 0,
       "n": 0,
       "ncols": null,
       "nrows": null,
       "postfix": null,
       "prefix": "",
       "rate": null,
       "total": 509,
       "unit": "it",
       "unit_divisor": 1000,
       "unit_scale": false
      },
      "application/vnd.jupyter.widget-view+json": {
       "model_id": "8b5f54d08d6d44f691e75d29f2abf3cf",
       "version_major": 2,
       "version_minor": 0
      },
      "text/plain": [
       "  0%|          | 0/509 [00:00<?, ?it/s]"
      ]
     },
     "metadata": {},
     "output_type": "display_data"
    },
    {
     "data": {
      "application/json": {
       "ascii": false,
       "bar_format": null,
       "colour": null,
       "elapsed": 0.010898113250732422,
       "initial": 0,
       "n": 0,
       "ncols": null,
       "nrows": null,
       "postfix": null,
       "prefix": "",
       "rate": null,
       "total": 623,
       "unit": "it",
       "unit_divisor": 1000,
       "unit_scale": false
      },
      "application/vnd.jupyter.widget-view+json": {
       "model_id": "774054f0f1394a31b154af5bb23bdc9a",
       "version_major": 2,
       "version_minor": 0
      },
      "text/plain": [
       "  0%|          | 0/623 [00:00<?, ?it/s]"
      ]
     },
     "metadata": {},
     "output_type": "display_data"
    },
    {
     "data": {
      "application/json": {
       "ascii": false,
       "bar_format": null,
       "colour": null,
       "elapsed": 0.030337810516357422,
       "initial": 0,
       "n": 0,
       "ncols": null,
       "nrows": null,
       "postfix": null,
       "prefix": "",
       "rate": null,
       "total": 506,
       "unit": "it",
       "unit_divisor": 1000,
       "unit_scale": false
      },
      "application/vnd.jupyter.widget-view+json": {
       "model_id": "631fb2d516e649058d742ff8ce6371d5",
       "version_major": 2,
       "version_minor": 0
      },
      "text/plain": [
       "  0%|          | 0/506 [00:00<?, ?it/s]"
      ]
     },
     "metadata": {},
     "output_type": "display_data"
    }
   ],
   "source": [
    "true_labels = []\n",
    "\n",
    "class Genres:\n",
    "    def __iter__(self):\n",
    "        for genre in tqdm(['ballads', 'elegies', 'songs', 'novels'], leave=True):\n",
    "            for file in tqdm(os.listdir('../datasets/lemmatized/' + genre), leave=False):\n",
    "                with open('../datasets/lemmatized/' + genre + '/' + file, 'r', encoding='utf-8') as f:\n",
    "                    if utils.simple_preprocess(f.read()):\n",
    "                        yield genre\n",
    "genres_true = Genres()\n",
    "\n",
    "for gen in genres_true:\n",
    "    true_labels.append(gen)"
   ]
  },
  {
   "cell_type": "code",
   "execution_count": 59,
   "metadata": {},
   "outputs": [
    {
     "data": {
      "text/plain": [
       "1826"
      ]
     },
     "execution_count": 59,
     "metadata": {},
     "output_type": "execute_result"
    }
   ],
   "source": [
    "len(true_labels)"
   ]
  },
  {
   "cell_type": "code",
   "execution_count": 36,
   "metadata": {},
   "outputs": [
    {
     "data": {
      "application/json": {
       "ascii": false,
       "bar_format": null,
       "colour": null,
       "elapsed": 0.01707601547241211,
       "initial": 0,
       "n": 0,
       "ncols": null,
       "nrows": null,
       "postfix": null,
       "prefix": "",
       "rate": null,
       "total": 4,
       "unit": "it",
       "unit_divisor": 1000,
       "unit_scale": false
      },
      "application/vnd.jupyter.widget-view+json": {
       "model_id": "0b0b09c8f5df480b9d410e9ae923ad0a",
       "version_major": 2,
       "version_minor": 0
      },
      "text/plain": [
       "  0%|          | 0/4 [00:00<?, ?it/s]"
      ]
     },
     "metadata": {},
     "output_type": "display_data"
    },
    {
     "data": {
      "application/json": {
       "ascii": false,
       "bar_format": null,
       "colour": null,
       "elapsed": 0.011294126510620117,
       "initial": 0,
       "n": 0,
       "ncols": null,
       "nrows": null,
       "postfix": null,
       "prefix": "",
       "rate": null,
       "total": 189,
       "unit": "it",
       "unit_divisor": 1000,
       "unit_scale": false
      },
      "application/vnd.jupyter.widget-view+json": {
       "model_id": "68e0458d0fd74db78eb070314e58f58b",
       "version_major": 2,
       "version_minor": 0
      },
      "text/plain": [
       "  0%|          | 0/189 [00:00<?, ?it/s]"
      ]
     },
     "metadata": {},
     "output_type": "display_data"
    },
    {
     "data": {
      "application/json": {
       "ascii": false,
       "bar_format": null,
       "colour": null,
       "elapsed": 0.029765844345092773,
       "initial": 0,
       "n": 0,
       "ncols": null,
       "nrows": null,
       "postfix": null,
       "prefix": "",
       "rate": null,
       "total": 509,
       "unit": "it",
       "unit_divisor": 1000,
       "unit_scale": false
      },
      "application/vnd.jupyter.widget-view+json": {
       "model_id": "1150caf831b349e1a66f481d9c347ccb",
       "version_major": 2,
       "version_minor": 0
      },
      "text/plain": [
       "  0%|          | 0/509 [00:00<?, ?it/s]"
      ]
     },
     "metadata": {},
     "output_type": "display_data"
    },
    {
     "data": {
      "application/json": {
       "ascii": false,
       "bar_format": null,
       "colour": null,
       "elapsed": 0.008383035659790039,
       "initial": 0,
       "n": 0,
       "ncols": null,
       "nrows": null,
       "postfix": null,
       "prefix": "",
       "rate": null,
       "total": 623,
       "unit": "it",
       "unit_divisor": 1000,
       "unit_scale": false
      },
      "application/vnd.jupyter.widget-view+json": {
       "model_id": "54628c295a46433b95497e940be4907a",
       "version_major": 2,
       "version_minor": 0
      },
      "text/plain": [
       "  0%|          | 0/623 [00:00<?, ?it/s]"
      ]
     },
     "metadata": {},
     "output_type": "display_data"
    },
    {
     "data": {
      "application/json": {
       "ascii": false,
       "bar_format": null,
       "colour": null,
       "elapsed": 0.015023231506347656,
       "initial": 0,
       "n": 0,
       "ncols": null,
       "nrows": null,
       "postfix": null,
       "prefix": "",
       "rate": null,
       "total": 506,
       "unit": "it",
       "unit_divisor": 1000,
       "unit_scale": false
      },
      "application/vnd.jupyter.widget-view+json": {
       "model_id": "bc319a2ffddb4940b026a284c79a24d3",
       "version_major": 2,
       "version_minor": 0
      },
      "text/plain": [
       "  0%|          | 0/506 [00:00<?, ?it/s]"
      ]
     },
     "metadata": {},
     "output_type": "display_data"
    }
   ],
   "source": [
    "from collections import Counter\n",
    "core_nodes = []\n",
    "rel_freqs = []\n",
    "\n",
    "for sentence in sentences:\n",
    "    if not sentence:\n",
    "        continue\n",
    "    core_nodes_sent = [i[0] for i in Counter(sentence).most_common(10)]\n",
    "    core_nodes.append(core_nodes_sent)\n",
    "    freqs = Counter(sentence)\n",
    "    rel_freqs_sent = {}\n",
    "    for i in freqs:\n",
    "        rel_freqs_sent[i] = freqs[i]/len(sentence)\n",
    "    rel_freqs.append(rel_freqs_sent)"
   ]
  },
  {
   "cell_type": "code",
   "execution_count": 37,
   "metadata": {},
   "outputs": [
    {
     "name": "stderr",
     "output_type": "stream",
     "text": [
      "1826it [26:41,  1.14it/s]\n"
     ]
    }
   ],
   "source": [
    "from tqdm import tqdm\n",
    "\n",
    "sent_features = []\n",
    "\n",
    "for num, graph in tqdm(enumerate(graphs)):\n",
    "    text_len = sent_len[num]\n",
    "    node_num = len(graph.nodes)\n",
    "    edge_num = len(graph.edges)\n",
    "    avg_clust_coef = nx.average_clustering(graph)\n",
    "    largest_cc = graph.subgraph(max(nx.connected_components(graph), key=len)).copy()\n",
    "    shortest_path_len = nx.average_shortest_path_length(largest_cc)\n",
    "    avg_node_con = nx.average_node_connectivity(graph)\n",
    "    features = [text_len, node_num, edge_num, avg_clust_coef, shortest_path_len, avg_node_con]\n",
    "    sent_features.append(features)"
   ]
  },
  {
   "cell_type": "code",
   "execution_count": 38,
   "metadata": {},
   "outputs": [],
   "source": [
    "# counts\n",
    "core_edges = []\n",
    "multiple_nodes = []\n",
    "multiple_edges = []\n",
    "boundary_nodes = []\n",
    "boundary_edges = []\n",
    "\n",
    "# node weights equal to relative word frequencies in each text\n",
    "core_nodes_weights = []\n",
    "multiple_nodes_weigths = []\n",
    "boundary_nodes_weights = []\n",
    "\n",
    "# core weights equal to the cosine similarity between the nodes\n",
    "core_edges_weights = []\n",
    "multiple_edges_weights = []\n",
    "boundary_edges_weights = []\n",
    "\n",
    "# core node degrees separated into three categories: counting only core edges, only multiple edges, only boundary edges\n",
    "core_node_core_edge_degree = []\n",
    "core_nodes_multiple_edge_degree = []\n",
    "core_nodes_boundary_edge_degree = []\n",
    "\n",
    "for num, graph in enumerate(graphs):\n",
    "\n",
    "    num_core_edges = 0\n",
    "    multiple_nodes_graph = 0\n",
    "    multiple_edges_graph = 0\n",
    "    boundary_nodes_graph = 0\n",
    "    boundary_edges_graph = 0\n",
    "\n",
    "    core_edges_weights_sent = []\n",
    "    multiple_edges_weights_sent = []\n",
    "    boundary_edges_weights_sent = []\n",
    "\n",
    "    multiple_nodes_weigths_sent = []\n",
    "    boundary_nodes_weights_sent = []\n",
    "\n",
    "    core_nodes_graph = core_nodes[num]\n",
    "    core_nodes_weights_sent = [rel_freqs[num][i] for i in core_nodes_graph]\n",
    "    core_pairs = [(a, b) for idx, a in enumerate(core_nodes_graph) for b in core_nodes_graph[idx + 1:]]\n",
    "    for pair in core_pairs:\n",
    "        num_core_edges += graph.has_edge(pair[0], pair[1])\n",
    "        core_edge_w = word2vec.wv.similarity(pair[0], pair[1])\n",
    "        core_edges_weights_sent.append(core_edge_w)\n",
    "    core_edges.append(num_core_edges)\n",
    "\n",
    "    for node in graph.nodes:\n",
    "        node_to_core_edge = 0\n",
    "        boundary_nodes_weight_sent = []\n",
    "        multiple_nodes_weight_sent = []\n",
    "\n",
    "        if node not in core_nodes_graph:\n",
    "            for core_node in core_nodes_graph:\n",
    "                node_to_core_edge += graph.has_edge(node, core_node)\n",
    "            if node_to_core_edge == 1:\n",
    "                boundary_nodes_graph += 1\n",
    "                boundary_edges_graph += 1\n",
    "                if node in rel_freqs[num]:\n",
    "                    boundary_nodes_weights_sent.append(rel_freqs[num][node])\n",
    "                core = [i[1] for i in graph.edges(node)][0]\n",
    "                boundary_edges_weights_sent.append(word2vec.wv.similarity(node, core))\n",
    "            elif node_to_core_edge >= 1:\n",
    "                multiple_nodes_graph += 1\n",
    "                multiple_edges_graph += node_to_core_edge\n",
    "                if node in rel_freqs[num]:\n",
    "                    multiple_nodes_weigths_sent.append(rel_freqs[num][node])\n",
    "                cores = [i[1] for i in graph.edges(node)]\n",
    "                for core in cores:\n",
    "                    multiple_edges_weights_sent.append(word2vec.wv.similarity(node, core))\n",
    "\n",
    "    core_node_core_edge_sent = []\n",
    "    core_nodes_multiple_edge_sent = []\n",
    "    core_nodes_boundary_edge_sent = []\n",
    "    \n",
    "    for node in graph.nodes:\n",
    "        edges = graph.edges(i[1] for i in graphs[0].edges(node))\n",
    "        if node in core_nodes_graph:\n",
    "            core_node_core_edges = 0\n",
    "            core_node_multiple_edges = 0\n",
    "            core_node_boundary_edges = 0\n",
    "            for edge in edges:\n",
    "                if edge in core_nodes_graph:\n",
    "                    core_node_core_edges += 1\n",
    "                elif len(edges) == 1:\n",
    "                    core_node_boundary_edges = 1\n",
    "                else:\n",
    "                    core_node_multiple_edges += 1\n",
    "            core_node_core_edge_sent.append(core_node_core_edges)\n",
    "            core_nodes_multiple_edge_sent.append(core_node_multiple_edges)\n",
    "            core_nodes_boundary_edge_sent.append(core_node_boundary_edges)\n",
    "    \n",
    "    multiple_nodes.append(multiple_nodes_graph)\n",
    "    multiple_edges.append(multiple_edges_graph)\n",
    "    boundary_nodes.append(boundary_nodes_graph)\n",
    "    boundary_edges.append(boundary_edges_graph)\n",
    "\n",
    "    core_nodes_weights.append(core_nodes_weights_sent)\n",
    "    multiple_nodes_weigths.append(multiple_nodes_weigths_sent)\n",
    "    boundary_nodes_weights.append(boundary_nodes_weights_sent)\n",
    "\n",
    "    core_edges_weights.append(core_edges_weights_sent)\n",
    "    multiple_edges_weights.append(multiple_edges_weights_sent)\n",
    "    boundary_edges_weights.append(boundary_edges_weights_sent)\n",
    "\n",
    "    core_node_core_edge_degree.append(core_node_core_edge_sent)\n",
    "    core_nodes_multiple_edge_degree.append(core_nodes_multiple_edge_sent)\n",
    "    core_nodes_boundary_edge_degree.append(core_nodes_boundary_edge_sent)"
   ]
  },
  {
   "cell_type": "code",
   "execution_count": 40,
   "metadata": {},
   "outputs": [
    {
     "name": "stderr",
     "output_type": "stream",
     "text": [
      "/Library/Frameworks/Python.framework/Versions/3.10/lib/python3.10/site-packages/numpy/lib/function_base.py:495: RuntimeWarning: Mean of empty slice.\n",
      "  avg = a.mean(axis)\n",
      "/Library/Frameworks/Python.framework/Versions/3.10/lib/python3.10/site-packages/numpy/core/_methods.py:189: RuntimeWarning: invalid value encountered in double_scalars\n",
      "  ret = ret.dtype.type(ret / rcount)\n"
     ]
    }
   ],
   "source": [
    "import numpy as np\n",
    "\n",
    "# new features\n",
    "# number of core/multiple/boundary nodes/edges\n",
    "\n",
    "features = []\n",
    "features.append(core_edges)\n",
    "features.append(multiple_nodes)\n",
    "features.append(multiple_edges)\n",
    "features.append(boundary_nodes)\n",
    "features.append(boundary_edges)\n",
    "\n",
    "# min/max/avg/sum of core/multiple/boundary node weight, edge weight\n",
    "\n",
    "features.append([min(x, default=0) for x in core_nodes_weights])\n",
    "features.append([min(x, default=0) for x in multiple_nodes_weigths])\n",
    "features.append([min(x, default=0) for x in boundary_nodes_weights])\n",
    "\n",
    "features.append([min(x, default=0) for x in core_edges_weights])\n",
    "features.append([min(x, default=0) for x in multiple_edges_weights])\n",
    "features.append([min(x, default=0) for x in boundary_edges_weights])\n",
    "\n",
    "features.append([max(x, default=0) for x in core_nodes_weights])\n",
    "features.append([max(x, default=0) for x in multiple_nodes_weigths])\n",
    "features.append([max(x, default=0) for x in boundary_nodes_weights])\n",
    "\n",
    "features.append([max(x, default=0) for x in core_edges_weights])\n",
    "features.append([max(x, default=0) for x in multiple_edges_weights])\n",
    "features.append([max(x, default=0) for x in boundary_edges_weights])\n",
    "\n",
    "features.append([np.average(x) for x in core_nodes_weights])\n",
    "features.append([np.average(x) for x in multiple_nodes_weigths])\n",
    "features.append([np.average(x) for x in boundary_nodes_weights])\n",
    "\n",
    "features.append([sum(x) for x in core_edges_weights])\n",
    "features.append([sum(x) for x in multiple_edges_weights])\n",
    "features.append([sum(x) for x in boundary_edges_weights])\n",
    "\n",
    "# count/min/max/avg core nodes degree\n",
    "\n",
    "features.append([min(x, default=0) for x in core_node_core_edge_degree])\n",
    "features.append([min(x, default=0) for x in core_nodes_multiple_edge_degree])\n",
    "features.append([min(x, default=0) for x in core_nodes_boundary_edge_degree])\n",
    "\n",
    "features.append([max(x, default=0) for x in core_node_core_edge_degree])\n",
    "features.append([max(x, default=0) for x in core_nodes_multiple_edge_degree])\n",
    "features.append([max(x, default=0) for x in core_nodes_boundary_edge_degree])\n",
    "\n",
    "features.append([np.average(x) for x in core_node_core_edge_degree])\n",
    "features.append([np.average(x) for x in core_nodes_multiple_edge_degree])\n",
    "features.append([np.average(x) for x in core_nodes_boundary_edge_degree])"
   ]
  },
  {
   "cell_type": "code",
   "execution_count": 41,
   "metadata": {},
   "outputs": [],
   "source": [
    "sent_features_new = sent_features.copy()\n",
    "\n",
    "for num, sent in enumerate(sent_features_new):\n",
    "    for i in features:\n",
    "        sent_features_new[num].append(i[num])"
   ]
  },
  {
   "cell_type": "code",
   "execution_count": 62,
   "metadata": {},
   "outputs": [
    {
     "data": {
      "text/plain": [
       "(1826, 38)"
      ]
     },
     "execution_count": 62,
     "metadata": {},
     "output_type": "execute_result"
    }
   ],
   "source": [
    "np.array(sent_features_new).shape"
   ]
  },
  {
   "cell_type": "code",
   "execution_count": 50,
   "metadata": {},
   "outputs": [],
   "source": [
    "from collections import defaultdict\n",
    "from sklearn import metrics\n",
    "from time import time\n",
    "import numpy as np\n",
    "\n",
    "evaluations = []\n",
    "evaluations_std = []\n",
    "\n",
    "\n",
    "def fit_and_evaluate(km, X, name=None, n_runs=5):\n",
    "    name = km.__class__.__name__ if name is None else name\n",
    "\n",
    "    train_times = []\n",
    "    scores = defaultdict(list)\n",
    "    for seed in range(n_runs):\n",
    "        km.set_params(random_state=seed)\n",
    "        t0 = time()\n",
    "        km.fit(X)\n",
    "        train_times.append(time() - t0)\n",
    "        scores[\"Homogeneity\"].append(metrics.homogeneity_score(true_labels, km.labels_))\n",
    "        scores[\"Completeness\"].append(metrics.completeness_score(true_labels, km.labels_))\n",
    "        scores[\"V-measure\"].append(metrics.v_measure_score(true_labels, km.labels_))\n",
    "        scores[\"Adjusted Rand-Index\"].append(\n",
    "            metrics.adjusted_rand_score(true_labels, km.labels_)\n",
    "        )\n",
    "        scores[\"Silhouette Coefficient\"].append(\n",
    "            metrics.silhouette_score(X, km.labels_, sample_size=2000)\n",
    "        )\n",
    "    train_times = np.asarray(train_times)\n",
    "\n",
    "    print(f\"clustering done in {train_times.mean():.2f} ± {train_times.std():.2f} s \")\n",
    "    evaluation = {\n",
    "        \"estimator\": name,\n",
    "        \"train_time\": train_times.mean(),\n",
    "    }\n",
    "    evaluation_std = {\n",
    "        \"estimator\": name,\n",
    "        \"train_time\": train_times.std(),\n",
    "    }\n",
    "    for score_name, score_values in scores.items():\n",
    "        mean_score, std_score = np.mean(score_values), np.std(score_values)\n",
    "        print(f\"{score_name}: {mean_score:.3f} ± {std_score:.3f}\")\n",
    "        evaluation[score_name] = mean_score\n",
    "        evaluation_std[score_name] = std_score\n",
    "    evaluations.append(evaluation)\n",
    "    evaluations_std.append(evaluation_std)"
   ]
  },
  {
   "cell_type": "code",
   "execution_count": 55,
   "metadata": {},
   "outputs": [
    {
     "name": "stdout",
     "output_type": "stream",
     "text": [
      "clustering done in 0.02 ± 0.01 s \n",
      "Homogeneity: 0.359 ± 0.007\n",
      "Completeness: 0.622 ± 0.009\n",
      "V-measure: 0.455 ± 0.008\n",
      "Adjusted Rand-Index: 0.258 ± 0.007\n",
      "Silhouette Coefficient: 0.837 ± 0.002\n"
     ]
    }
   ],
   "source": [
    "from sklearn.cluster import KMeans\n",
    "\n",
    "X = np.array(sent_features_new)\n",
    "X = np.nan_to_num(X)\n",
    "\n",
    "kmeans = KMeans(\n",
    "    n_clusters=4,\n",
    "    max_iter=100,\n",
    "    n_init=1,\n",
    ")\n",
    "\n",
    "fit_and_evaluate(kmeans, X)"
   ]
  },
  {
   "cell_type": "code",
   "execution_count": 58,
   "metadata": {},
   "outputs": [
    {
     "data": {
      "text/plain": [
       "[217,\n",
       " 41,\n",
       " 37,\n",
       " 0.0,\n",
       " 2.4952380952380953,\n",
       " 0.25609756097560976,\n",
       " 6,\n",
       " 0,\n",
       " 0,\n",
       " 31,\n",
       " 31,\n",
       " 0.02304147465437788,\n",
       " 0,\n",
       " 0.004608294930875576,\n",
       " -0.09045152,\n",
       " 0,\n",
       " 0.3816611,\n",
       " 0.03686635944700461,\n",
       " 0,\n",
       " 0.02304147465437788,\n",
       " 0.9581768,\n",
       " 0,\n",
       " 0.81553674,\n",
       " 0.02903225806451613,\n",
       " nan,\n",
       " 0.0072840790842872,\n",
       " 21.563222110271454,\n",
       " 0,\n",
       " 17.555962026119232,\n",
       " 0,\n",
       " 4,\n",
       " 0,\n",
       " 0,\n",
       " 13,\n",
       " 0,\n",
       " 0.0,\n",
       " 9.0,\n",
       " 0.0]"
      ]
     },
     "execution_count": 58,
     "metadata": {},
     "output_type": "execute_result"
    }
   ],
   "source": [
    "sent_features_new[0]"
   ]
  },
  {
   "cell_type": "code",
   "execution_count": null,
   "metadata": {},
   "outputs": [],
   "source": [
    "fig, axs = plt.subplots(2, 3, figsize=(10, 6))\n",
    "\n",
    "def normalize(x):\n",
    "    return (x-np.min(x))/(np.max(x)-np.min(x))\n",
    "\n",
    "axs[0, 0].scatter(true_labels, normalize(np.array(sent_features_new)[:,0]))\n",
    "axs[0, 0].set_title('text_len')\n",
    "axs[0, 1].scatter(true_labels, normalize(np.array(sent_features_new)[:,1]))\n",
    "axs[0, 1].set_title('node_num')\n",
    "axs[0, 2].scatter(true_labels, normalize(np.array(sent_features_new)[:,2]))\n",
    "axs[0, 2].set_title('edge_num')\n",
    "axs[1, 0].scatter(true_labels, normalize(np.array(sent_features_new)[:,3]))\n",
    "axs[1, 0].set_title('avg_clust_coef')\n",
    "axs[1, 1].scatter(true_labels, normalize(np.array(sent_features_new)[:,4]))\n",
    "axs[1, 1].set_title('shortest_path_len')\n",
    "axs[1, 2].scatter(true_labels, normalize(np.array(sent_features_new)[:,5]))\n",
    "axs[1, 2].set_title('avg_node_con')\n",
    "\n",
    "for ax in axs.flat:\n",
    "    ax.label_outer()"
   ]
  },
  {
   "cell_type": "code",
   "execution_count": null,
   "metadata": {},
   "outputs": [],
   "source": [
    "fig, axs = plt.subplots(1, 5, figsize=(15, 3))\n",
    "\n",
    "axs[0].scatter(true_labels, normalize(np.array(core_edges)))\n",
    "axs[0].set_title('core_edges')\n",
    "axs[1].scatter(true_labels, normalize(np.array(multiple_nodes)))\n",
    "axs[1].set_title('multiple_nodes')\n",
    "axs[2].scatter(true_labels, normalize(np.array(multiple_edges)))\n",
    "axs[2].set_title('multiple_edges')\n",
    "axs[3].scatter(true_labels, normalize(np.array(boundary_nodes)))\n",
    "axs[3].set_title('boundary_nodes')\n",
    "axs[4].scatter(true_labels, normalize(np.array(boundary_edges)))\n",
    "axs[4].set_title('boundary_edges')\n",
    "\n",
    "for ax in axs.flat:\n",
    "    ax.label_outer()"
   ]
  },
  {
   "cell_type": "code",
   "execution_count": 60,
   "metadata": {},
   "outputs": [],
   "source": [
    "header = ['text_len', 'node_num', 'edge_num', 'avg_clust_coef', 'shortest_path_len', 'avg_node_con', 'core_edges', 'multiple_nodes', 'multiple_edges', 'boundary_nodes', 'boundary_edges', 'min_core_nodes_weights', 'min_multiple_nodes_weigths', 'min_boundary_nodes_weights', 'min_core_edges_weights', 'min_multiple_edges_weights', 'min_boundary_edges_weights', 'max_core_nodes_weights', 'max_multiple_nodes_weigths', 'max_boundary_nodes_weights', 'max_core_edges_weights', 'max_multiple_edges_weights', 'max_boundary_edges_weights', 'avg_core_nodes_weights', 'avg_multiple_nodes_weigths', 'avg_boundary_nodes_weights', 'sum_core_edges_weights', 'sum_multiple_edges_weights', 'sum_boundary_edges_weights', 'min_core_node_core_edge_degree', 'min_core_nodes_multiple_edge_degree', 'min_core_nodes_boundary_edge_degree', 'max_core_node_core_edge_degree', 'max_core_nodes_multiple_edge_degree', 'max_core_nodes_boundary_edge_degree', 'avg_core_node_core_edge_degree', 'avg_core_nodes_multiple_edge_degree', 'avg_core_nodes_boundary_edge_degree']"
   ]
  },
  {
   "cell_type": "code",
   "execution_count": 61,
   "metadata": {},
   "outputs": [],
   "source": [
    "import csv\n",
    "with open('sent_features_new_headers.csv', 'w') as f:\n",
    "    write = csv.writer(f)\n",
    "    write.writerow(header)\n",
    "    write.writerows(sent_features_new)"
   ]
  },
  {
   "cell_type": "code",
   "execution_count": 8,
   "metadata": {},
   "outputs": [],
   "source": [
    "#sent_features_new = []\n",
    "\n",
    "with open('sent_features_new.csv', 'r') as f:\n",
    "    reader = csv.reader(f)\n",
    "    for row in reader:\n",
    "        sent_features_new.append(row)"
   ]
  }
 ],
 "metadata": {
  "kernelspec": {
   "display_name": "Python 3",
   "language": "python",
   "name": "python3"
  },
  "language_info": {
   "codemirror_mode": {
    "name": "ipython",
    "version": 3
   },
   "file_extension": ".py",
   "mimetype": "text/x-python",
   "name": "python",
   "nbconvert_exporter": "python",
   "pygments_lexer": "ipython3",
   "version": "3.10.2"
  },
  "orig_nbformat": 4
 },
 "nbformat": 4,
 "nbformat_minor": 2
}
