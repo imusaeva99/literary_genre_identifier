{
 "cells": [
  {
   "cell_type": "code",
   "execution_count": 1,
   "metadata": {},
   "outputs": [],
   "source": [
    "import os, spacy, pandas as pd"
   ]
  },
  {
   "cell_type": "code",
   "execution_count": 2,
   "metadata": {},
   "outputs": [],
   "source": [
    "nlp = spacy.load(\"ru_core_news_lg\")"
   ]
  },
  {
   "cell_type": "code",
   "execution_count": 34,
   "metadata": {},
   "outputs": [],
   "source": [
    "class Text():\n",
    "\n",
    "    rows = []\n",
    "\n",
    "    def __init__(self, text, genre, fname):\n",
    "        self.text = text\n",
    "        self.genre = genre\n",
    "        self.fname = fname\n",
    "        self.lemmas = self.get_lemmas()\n",
    "    \n",
    "    def get_lemmas(self):\n",
    "        self.lemmas = []\n",
    "        doc = nlp(self.text)\n",
    "        for token in doc:\n",
    "            if token.lemma_.isalpha():\n",
    "                self.lemmas.append(token.lemma_)\n",
    "        return self.lemmas\n",
    "\n",
    "    def get_row(self):\n",
    "        row = (self.fname, self.genre, len(self.lemmas), len(set(self.lemmas)))\n",
    "        Text.rows.append(row)\n",
    "        return row"
   ]
  },
  {
   "cell_type": "code",
   "execution_count": 35,
   "metadata": {},
   "outputs": [],
   "source": [
    "genres = ['ballads', 'elegies', 'songs']\n",
    "\n",
    "for genre in genres:\n",
    "\n",
    "    filenames = os.listdir('../datasets/' + genre)\n",
    "\n",
    "    for file in filenames:\n",
    "        if file != '.DS_Store':\n",
    "            with open('../datasets/' + genre + '/' + file, 'r', encoding='utf-8') as f:\n",
    "                lines = f.read()\n",
    "        \n",
    "            text_piece = Text(lines, genre, file) \n",
    "            text_piece.get_row()"
   ]
  },
  {
   "cell_type": "code",
   "execution_count": 38,
   "metadata": {},
   "outputs": [],
   "source": [
    "df = pd.DataFrame(Text.rows, columns=['filename', 'genre', 'all lemmas', 'unique lemmas'])"
   ]
  },
  {
   "cell_type": "code",
   "execution_count": 45,
   "metadata": {},
   "outputs": [
    {
     "name": "stdout",
     "output_type": "stream",
     "text": [
      "Total number of texts by genres\n"
     ]
    },
    {
     "data": {
      "text/plain": [
       "genre\n",
       "ballads    189\n",
       "elegies    510\n",
       "songs      623\n",
       "Name: filename, dtype: int64"
      ]
     },
     "execution_count": 45,
     "metadata": {},
     "output_type": "execute_result"
    }
   ],
   "source": [
    "print('Total number of texts by genres')\n",
    "df.groupby(['genre'])['filename'].count()"
   ]
  },
  {
   "cell_type": "code",
   "execution_count": 46,
   "metadata": {},
   "outputs": [
    {
     "name": "stdout",
     "output_type": "stream",
     "text": [
      "Total number of tokens and unique lemmas by genres\n"
     ]
    },
    {
     "data": {
      "text/html": [
       "<div>\n",
       "<style scoped>\n",
       "    .dataframe tbody tr th:only-of-type {\n",
       "        vertical-align: middle;\n",
       "    }\n",
       "\n",
       "    .dataframe tbody tr th {\n",
       "        vertical-align: top;\n",
       "    }\n",
       "\n",
       "    .dataframe thead th {\n",
       "        text-align: right;\n",
       "    }\n",
       "</style>\n",
       "<table border=\"1\" class=\"dataframe\">\n",
       "  <thead>\n",
       "    <tr style=\"text-align: right;\">\n",
       "      <th></th>\n",
       "      <th>all lemmas</th>\n",
       "      <th>unique lemmas</th>\n",
       "    </tr>\n",
       "    <tr>\n",
       "      <th>genre</th>\n",
       "      <th></th>\n",
       "      <th></th>\n",
       "    </tr>\n",
       "  </thead>\n",
       "  <tbody>\n",
       "    <tr>\n",
       "      <th>ballads</th>\n",
       "      <td>48510</td>\n",
       "      <td>31443</td>\n",
       "    </tr>\n",
       "    <tr>\n",
       "      <th>elegies</th>\n",
       "      <td>115313</td>\n",
       "      <td>79699</td>\n",
       "    </tr>\n",
       "    <tr>\n",
       "      <th>songs</th>\n",
       "      <td>73276</td>\n",
       "      <td>52185</td>\n",
       "    </tr>\n",
       "  </tbody>\n",
       "</table>\n",
       "</div>"
      ],
      "text/plain": [
       "         all lemmas  unique lemmas\n",
       "genre                             \n",
       "ballads       48510          31443\n",
       "elegies      115313          79699\n",
       "songs         73276          52185"
      ]
     },
     "execution_count": 46,
     "metadata": {},
     "output_type": "execute_result"
    }
   ],
   "source": [
    "print('Total number of tokens and unique lemmas by genres')\n",
    "df.groupby(['genre']).sum()"
   ]
  },
  {
   "cell_type": "code",
   "execution_count": 47,
   "metadata": {},
   "outputs": [
    {
     "name": "stdout",
     "output_type": "stream",
     "text": [
      "Mean number of tokens and unique lemmas by genres\n"
     ]
    },
    {
     "data": {
      "text/html": [
       "<div>\n",
       "<style scoped>\n",
       "    .dataframe tbody tr th:only-of-type {\n",
       "        vertical-align: middle;\n",
       "    }\n",
       "\n",
       "    .dataframe tbody tr th {\n",
       "        vertical-align: top;\n",
       "    }\n",
       "\n",
       "    .dataframe thead th {\n",
       "        text-align: right;\n",
       "    }\n",
       "</style>\n",
       "<table border=\"1\" class=\"dataframe\">\n",
       "  <thead>\n",
       "    <tr style=\"text-align: right;\">\n",
       "      <th></th>\n",
       "      <th>all lemmas</th>\n",
       "      <th>unique lemmas</th>\n",
       "    </tr>\n",
       "    <tr>\n",
       "      <th>genre</th>\n",
       "      <th></th>\n",
       "      <th></th>\n",
       "    </tr>\n",
       "  </thead>\n",
       "  <tbody>\n",
       "    <tr>\n",
       "      <th>ballads</th>\n",
       "      <td>256.666667</td>\n",
       "      <td>166.365079</td>\n",
       "    </tr>\n",
       "    <tr>\n",
       "      <th>elegies</th>\n",
       "      <td>226.103922</td>\n",
       "      <td>156.272549</td>\n",
       "    </tr>\n",
       "    <tr>\n",
       "      <th>songs</th>\n",
       "      <td>117.617978</td>\n",
       "      <td>83.764045</td>\n",
       "    </tr>\n",
       "  </tbody>\n",
       "</table>\n",
       "</div>"
      ],
      "text/plain": [
       "         all lemmas  unique lemmas\n",
       "genre                             \n",
       "ballads  256.666667     166.365079\n",
       "elegies  226.103922     156.272549\n",
       "songs    117.617978      83.764045"
      ]
     },
     "execution_count": 47,
     "metadata": {},
     "output_type": "execute_result"
    }
   ],
   "source": [
    "print('Mean number of tokens and unique lemmas by genres')\n",
    "df.groupby(['genre']).mean()"
   ]
  },
  {
   "cell_type": "code",
   "execution_count": 48,
   "metadata": {},
   "outputs": [
    {
     "name": "stdout",
     "output_type": "stream",
     "text": [
      "                             filename    genre  all lemmas  unique lemmas\n",
      "0                      175_1842_E.txt  ballads         253            131\n",
      "1                47_1842_Lyubimov.txt  ballads          50             35\n",
      "2            183_1844_Zhadovskaya.txt  ballads          63             53\n",
      "3               157_1847_Nekrasov.txt  ballads         279            186\n",
      "4                206_1841_Tolstoy.txt  ballads         257            141\n",
      "...                               ...      ...         ...            ...\n",
      "1317      122_derzhavin_1803_utf8.txt    songs          36             33\n",
      "1318  324_pugovishnikov_1838_utf8.txt    songs         229            155\n",
      "1319       44_bashmakov_1842_utf8.txt    songs         169            103\n",
      "1320         63_veltman_1832_utf8.txt    songs          70             51\n",
      "1321      77_vladimirov_1848_utf8.txt    songs          44             36\n",
      "\n",
      "[1322 rows x 4 columns]\n"
     ]
    }
   ],
   "source": [
    "print(df)"
   ]
  }
 ],
 "metadata": {
  "kernelspec": {
   "display_name": "Python 3",
   "language": "python",
   "name": "python3"
  },
  "language_info": {
   "codemirror_mode": {
    "name": "ipython",
    "version": 3
   },
   "file_extension": ".py",
   "mimetype": "text/x-python",
   "name": "python",
   "nbconvert_exporter": "python",
   "pygments_lexer": "ipython3",
   "version": "3.10.2"
  },
  "orig_nbformat": 4
 },
 "nbformat": 4,
 "nbformat_minor": 2
}
